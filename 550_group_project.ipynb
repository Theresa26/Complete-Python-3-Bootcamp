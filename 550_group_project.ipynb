{
  "nbformat": 4,
  "nbformat_minor": 0,
  "metadata": {
    "colab": {
      "provenance": [],
      "toc_visible": true,
      "authorship_tag": "ABX9TyNQJkxr64GDiTS8fDmOm3SN",
      "include_colab_link": true
    },
    "kernelspec": {
      "name": "python3",
      "display_name": "Python 3"
    },
    "language_info": {
      "name": "python"
    }
  },
  "cells": [
    {
      "cell_type": "markdown",
      "metadata": {
        "id": "view-in-github",
        "colab_type": "text"
      },
      "source": [
        "<a href=\"https://colab.research.google.com/github/Theresa26/Complete-Python-3-Bootcamp/blob/master/550_group_project.ipynb\" target=\"_parent\"><img src=\"https://colab.research.google.com/assets/colab-badge.svg\" alt=\"Open In Colab\"/></a>"
      ]
    },
    {
      "cell_type": "markdown",
      "source": [
        "Idea: Podcast dataset and reviews\n",
        "\n",
        "Link to the 3 json datasets: \n",
        "https://www.kaggle.com/datasets/thoughtvector/podcastreviews\n",
        "\n",
        "Resources: \n",
        "\n",
        "*   https://developer.spotify.com/documentation/web-api\n",
        "*   https://developer.spotify.com/blog/2020-03-20-introducing-podcasts-api\n",
        "*   https://github.com/spotipy-dev/spotipy\n",
        "*   https://github.com/spotipy-dev/spotipy/commit/dd69a4865962c080635eccafd0b67b9732f55323\n",
        "*   https://spotipy.readthedocs.io/en/2.22.1/\n",
        "*   Example of using spotify to search for podcast data: https://medium.com/analytics-vidhya/visualizing-spotify-podcast-data-6dce49ca9a43\n",
        "\n"
      ],
      "metadata": {
        "id": "lg1WBUcwuKjt"
      }
    },
    {
      "cell_type": "code",
      "source": [
        "# imports \n",
        "import pandas as pd \n",
        "!pip install spotipy\n",
        "import spotipy\n",
        "from spotipy.oauth2 import SpotifyOAuth\n",
        "sp = spotipy.Spotify(auth_manager=SpotifyOAuth(client_id=\"\",\n",
        "                                               client_secret=\"\",\n",
        "                                               redirect_uri=\"http://localhost:3000\",\n",
        "                                               scope=\"user-library-read\"))"
      ],
      "metadata": {
        "colab": {
          "base_uri": "https://localhost:8080/"
        },
        "id": "NiwZzTfpvZkb",
        "outputId": "92ef9848-bfc9-4dc5-e50a-198339eb1a42"
      },
      "execution_count": 2,
      "outputs": [
        {
          "output_type": "stream",
          "name": "stdout",
          "text": [
            "Looking in indexes: https://pypi.org/simple, https://us-python.pkg.dev/colab-wheels/public/simple/\n",
            "Requirement already satisfied: spotipy in /usr/local/lib/python3.10/dist-packages (2.23.0)\n",
            "Requirement already satisfied: redis>=3.5.3 in /usr/local/lib/python3.10/dist-packages (from spotipy) (4.5.5)\n",
            "Requirement already satisfied: requests>=2.25.0 in /usr/local/lib/python3.10/dist-packages (from spotipy) (2.27.1)\n",
            "Requirement already satisfied: six>=1.15.0 in /usr/local/lib/python3.10/dist-packages (from spotipy) (1.16.0)\n",
            "Requirement already satisfied: urllib3>=1.26.0 in /usr/local/lib/python3.10/dist-packages (from spotipy) (1.26.15)\n",
            "Requirement already satisfied: async-timeout>=4.0.2 in /usr/local/lib/python3.10/dist-packages (from redis>=3.5.3->spotipy) (4.0.2)\n",
            "Requirement already satisfied: certifi>=2017.4.17 in /usr/local/lib/python3.10/dist-packages (from requests>=2.25.0->spotipy) (2022.12.7)\n",
            "Requirement already satisfied: charset-normalizer~=2.0.0 in /usr/local/lib/python3.10/dist-packages (from requests>=2.25.0->spotipy) (2.0.12)\n",
            "Requirement already satisfied: idna<4,>=2.5 in /usr/local/lib/python3.10/dist-packages (from requests>=2.25.0->spotipy) (3.4)\n"
          ]
        }
      ]
    },
    {
      "cell_type": "markdown",
      "source": [
        "# Testing spotify API using Spotipy package"
      ],
      "metadata": {
        "id": "O99-UICGavW7"
      }
    },
    {
      "cell_type": "code",
      "execution_count": 3,
      "metadata": {
        "id": "JoSQ6GCZtvhd",
        "colab": {
          "base_uri": "https://localhost:8080/",
          "height": 381
        },
        "outputId": "8d711b7e-2373-4815-f87a-2bc73d52994a"
      },
      "outputs": [
        {
          "output_type": "error",
          "ename": "KeyboardInterrupt",
          "evalue": "ignored",
          "traceback": [
            "\u001b[0;31m---------------------------------------------------------------------------\u001b[0m",
            "\u001b[0;31mKeyboardInterrupt\u001b[0m                         Traceback (most recent call last)",
            "\u001b[0;32m<ipython-input-3-170404b0938c>\u001b[0m in \u001b[0;36m<cell line: 3>\u001b[0;34m()\u001b[0m\n\u001b[1;32m      1\u001b[0m \u001b[0;31m# test\u001b[0m\u001b[0;34m\u001b[0m\u001b[0;34m\u001b[0m\u001b[0m\n\u001b[1;32m      2\u001b[0m \u001b[0mtaylor_uri\u001b[0m \u001b[0;34m=\u001b[0m \u001b[0;34m'spotify:artist:06HL4z0CvFAxyc27GXpf02'\u001b[0m\u001b[0;34m\u001b[0m\u001b[0;34m\u001b[0m\u001b[0m\n\u001b[0;32m----> 3\u001b[0;31m \u001b[0mresults\u001b[0m \u001b[0;34m=\u001b[0m \u001b[0msp\u001b[0m\u001b[0;34m.\u001b[0m\u001b[0martist_albums\u001b[0m\u001b[0;34m(\u001b[0m\u001b[0mtaylor_uri\u001b[0m\u001b[0;34m,\u001b[0m \u001b[0malbum_type\u001b[0m\u001b[0;34m=\u001b[0m\u001b[0;34m'album'\u001b[0m\u001b[0;34m)\u001b[0m\u001b[0;34m\u001b[0m\u001b[0;34m\u001b[0m\u001b[0m\n\u001b[0m\u001b[1;32m      4\u001b[0m \u001b[0malbums\u001b[0m \u001b[0;34m=\u001b[0m \u001b[0mresults\u001b[0m\u001b[0;34m[\u001b[0m\u001b[0;34m'items'\u001b[0m\u001b[0;34m]\u001b[0m\u001b[0;34m\u001b[0m\u001b[0;34m\u001b[0m\u001b[0m\n\u001b[1;32m      5\u001b[0m \u001b[0;32mwhile\u001b[0m \u001b[0mresults\u001b[0m\u001b[0;34m[\u001b[0m\u001b[0;34m'next'\u001b[0m\u001b[0;34m]\u001b[0m\u001b[0;34m:\u001b[0m\u001b[0;34m\u001b[0m\u001b[0;34m\u001b[0m\u001b[0m\n",
            "\u001b[0;32m/usr/local/lib/python3.10/dist-packages/spotipy/client.py\u001b[0m in \u001b[0;36martist_albums\u001b[0;34m(self, artist_id, album_type, country, limit, offset)\u001b[0m\n\u001b[1;32m    416\u001b[0m \u001b[0;34m\u001b[0m\u001b[0m\n\u001b[1;32m    417\u001b[0m         \u001b[0mtrid\u001b[0m \u001b[0;34m=\u001b[0m \u001b[0mself\u001b[0m\u001b[0;34m.\u001b[0m\u001b[0m_get_id\u001b[0m\u001b[0;34m(\u001b[0m\u001b[0;34m\"artist\"\u001b[0m\u001b[0;34m,\u001b[0m \u001b[0martist_id\u001b[0m\u001b[0;34m)\u001b[0m\u001b[0;34m\u001b[0m\u001b[0;34m\u001b[0m\u001b[0m\n\u001b[0;32m--> 418\u001b[0;31m         return self._get(\n\u001b[0m\u001b[1;32m    419\u001b[0m             \u001b[0;34m\"artists/\"\u001b[0m \u001b[0;34m+\u001b[0m \u001b[0mtrid\u001b[0m \u001b[0;34m+\u001b[0m \u001b[0;34m\"/albums\"\u001b[0m\u001b[0;34m,\u001b[0m\u001b[0;34m\u001b[0m\u001b[0;34m\u001b[0m\u001b[0m\n\u001b[1;32m    420\u001b[0m             \u001b[0malbum_type\u001b[0m\u001b[0;34m=\u001b[0m\u001b[0malbum_type\u001b[0m\u001b[0;34m,\u001b[0m\u001b[0;34m\u001b[0m\u001b[0;34m\u001b[0m\u001b[0m\n",
            "\u001b[0;32m/usr/local/lib/python3.10/dist-packages/spotipy/client.py\u001b[0m in \u001b[0;36m_get\u001b[0;34m(self, url, args, payload, **kwargs)\u001b[0m\n\u001b[1;32m    321\u001b[0m             \u001b[0mkwargs\u001b[0m\u001b[0;34m.\u001b[0m\u001b[0mupdate\u001b[0m\u001b[0;34m(\u001b[0m\u001b[0margs\u001b[0m\u001b[0;34m)\u001b[0m\u001b[0;34m\u001b[0m\u001b[0;34m\u001b[0m\u001b[0m\n\u001b[1;32m    322\u001b[0m \u001b[0;34m\u001b[0m\u001b[0m\n\u001b[0;32m--> 323\u001b[0;31m         \u001b[0;32mreturn\u001b[0m \u001b[0mself\u001b[0m\u001b[0;34m.\u001b[0m\u001b[0m_internal_call\u001b[0m\u001b[0;34m(\u001b[0m\u001b[0;34m\"GET\"\u001b[0m\u001b[0;34m,\u001b[0m \u001b[0murl\u001b[0m\u001b[0;34m,\u001b[0m \u001b[0mpayload\u001b[0m\u001b[0;34m,\u001b[0m \u001b[0mkwargs\u001b[0m\u001b[0;34m)\u001b[0m\u001b[0;34m\u001b[0m\u001b[0;34m\u001b[0m\u001b[0m\n\u001b[0m\u001b[1;32m    324\u001b[0m \u001b[0;34m\u001b[0m\u001b[0m\n\u001b[1;32m    325\u001b[0m     \u001b[0;32mdef\u001b[0m \u001b[0m_post\u001b[0m\u001b[0;34m(\u001b[0m\u001b[0mself\u001b[0m\u001b[0;34m,\u001b[0m \u001b[0murl\u001b[0m\u001b[0;34m,\u001b[0m \u001b[0margs\u001b[0m\u001b[0;34m=\u001b[0m\u001b[0;32mNone\u001b[0m\u001b[0;34m,\u001b[0m \u001b[0mpayload\u001b[0m\u001b[0;34m=\u001b[0m\u001b[0;32mNone\u001b[0m\u001b[0;34m,\u001b[0m \u001b[0;34m**\u001b[0m\u001b[0mkwargs\u001b[0m\u001b[0;34m)\u001b[0m\u001b[0;34m:\u001b[0m\u001b[0;34m\u001b[0m\u001b[0;34m\u001b[0m\u001b[0m\n",
            "\u001b[0;32m/usr/local/lib/python3.10/dist-packages/spotipy/client.py\u001b[0m in \u001b[0;36m_internal_call\u001b[0;34m(self, method, url, payload, params)\u001b[0m\n\u001b[1;32m    245\u001b[0m         \u001b[0;32mif\u001b[0m \u001b[0;32mnot\u001b[0m \u001b[0murl\u001b[0m\u001b[0;34m.\u001b[0m\u001b[0mstartswith\u001b[0m\u001b[0;34m(\u001b[0m\u001b[0;34m\"http\"\u001b[0m\u001b[0;34m)\u001b[0m\u001b[0;34m:\u001b[0m\u001b[0;34m\u001b[0m\u001b[0;34m\u001b[0m\u001b[0m\n\u001b[1;32m    246\u001b[0m             \u001b[0murl\u001b[0m \u001b[0;34m=\u001b[0m \u001b[0mself\u001b[0m\u001b[0;34m.\u001b[0m\u001b[0mprefix\u001b[0m \u001b[0;34m+\u001b[0m \u001b[0murl\u001b[0m\u001b[0;34m\u001b[0m\u001b[0;34m\u001b[0m\u001b[0m\n\u001b[0;32m--> 247\u001b[0;31m         \u001b[0mheaders\u001b[0m \u001b[0;34m=\u001b[0m \u001b[0mself\u001b[0m\u001b[0;34m.\u001b[0m\u001b[0m_auth_headers\u001b[0m\u001b[0;34m(\u001b[0m\u001b[0;34m)\u001b[0m\u001b[0;34m\u001b[0m\u001b[0;34m\u001b[0m\u001b[0m\n\u001b[0m\u001b[1;32m    248\u001b[0m \u001b[0;34m\u001b[0m\u001b[0m\n\u001b[1;32m    249\u001b[0m         \u001b[0;32mif\u001b[0m \u001b[0;34m\"content_type\"\u001b[0m \u001b[0;32min\u001b[0m \u001b[0margs\u001b[0m\u001b[0;34m[\u001b[0m\u001b[0;34m\"params\"\u001b[0m\u001b[0;34m]\u001b[0m\u001b[0;34m:\u001b[0m\u001b[0;34m\u001b[0m\u001b[0;34m\u001b[0m\u001b[0m\n",
            "\u001b[0;32m/usr/local/lib/python3.10/dist-packages/spotipy/client.py\u001b[0m in \u001b[0;36m_auth_headers\u001b[0;34m(self)\u001b[0m\n\u001b[1;32m    236\u001b[0m             \u001b[0;32mreturn\u001b[0m \u001b[0;34m{\u001b[0m\u001b[0;34m}\u001b[0m\u001b[0;34m\u001b[0m\u001b[0;34m\u001b[0m\u001b[0m\n\u001b[1;32m    237\u001b[0m         \u001b[0;32mtry\u001b[0m\u001b[0;34m:\u001b[0m\u001b[0;34m\u001b[0m\u001b[0;34m\u001b[0m\u001b[0m\n\u001b[0;32m--> 238\u001b[0;31m             \u001b[0mtoken\u001b[0m \u001b[0;34m=\u001b[0m \u001b[0mself\u001b[0m\u001b[0;34m.\u001b[0m\u001b[0mauth_manager\u001b[0m\u001b[0;34m.\u001b[0m\u001b[0mget_access_token\u001b[0m\u001b[0;34m(\u001b[0m\u001b[0mas_dict\u001b[0m\u001b[0;34m=\u001b[0m\u001b[0;32mFalse\u001b[0m\u001b[0;34m)\u001b[0m\u001b[0;34m\u001b[0m\u001b[0;34m\u001b[0m\u001b[0m\n\u001b[0m\u001b[1;32m    239\u001b[0m         \u001b[0;32mexcept\u001b[0m \u001b[0mTypeError\u001b[0m\u001b[0;34m:\u001b[0m\u001b[0;34m\u001b[0m\u001b[0;34m\u001b[0m\u001b[0m\n\u001b[1;32m    240\u001b[0m             \u001b[0mtoken\u001b[0m \u001b[0;34m=\u001b[0m \u001b[0mself\u001b[0m\u001b[0;34m.\u001b[0m\u001b[0mauth_manager\u001b[0m\u001b[0;34m.\u001b[0m\u001b[0mget_access_token\u001b[0m\u001b[0;34m(\u001b[0m\u001b[0;34m)\u001b[0m\u001b[0;34m\u001b[0m\u001b[0;34m\u001b[0m\u001b[0m\n",
            "\u001b[0;32m/usr/local/lib/python3.10/dist-packages/spotipy/oauth2.py\u001b[0m in \u001b[0;36mget_access_token\u001b[0;34m(self, code, as_dict, check_cache)\u001b[0m\n\u001b[1;32m    533\u001b[0m         payload = {\n\u001b[1;32m    534\u001b[0m             \u001b[0;34m\"redirect_uri\"\u001b[0m\u001b[0;34m:\u001b[0m \u001b[0mself\u001b[0m\u001b[0;34m.\u001b[0m\u001b[0mredirect_uri\u001b[0m\u001b[0;34m,\u001b[0m\u001b[0;34m\u001b[0m\u001b[0;34m\u001b[0m\u001b[0m\n\u001b[0;32m--> 535\u001b[0;31m             \u001b[0;34m\"code\"\u001b[0m\u001b[0;34m:\u001b[0m \u001b[0mcode\u001b[0m \u001b[0;32mor\u001b[0m \u001b[0mself\u001b[0m\u001b[0;34m.\u001b[0m\u001b[0mget_auth_response\u001b[0m\u001b[0;34m(\u001b[0m\u001b[0;34m)\u001b[0m\u001b[0;34m,\u001b[0m\u001b[0;34m\u001b[0m\u001b[0;34m\u001b[0m\u001b[0m\n\u001b[0m\u001b[1;32m    536\u001b[0m             \u001b[0;34m\"grant_type\"\u001b[0m\u001b[0;34m:\u001b[0m \u001b[0;34m\"authorization_code\"\u001b[0m\u001b[0;34m,\u001b[0m\u001b[0;34m\u001b[0m\u001b[0;34m\u001b[0m\u001b[0m\n\u001b[1;32m    537\u001b[0m         }\n",
            "\u001b[0;32m/usr/local/lib/python3.10/dist-packages/spotipy/oauth2.py\u001b[0m in \u001b[0;36mget_auth_response\u001b[0;34m(self, open_browser)\u001b[0m\n\u001b[1;32m    488\u001b[0m             \u001b[0;31m# Only start a local http server if a port is specified\u001b[0m\u001b[0;34m\u001b[0m\u001b[0;34m\u001b[0m\u001b[0m\n\u001b[1;32m    489\u001b[0m             \u001b[0;32mif\u001b[0m \u001b[0mredirect_port\u001b[0m\u001b[0;34m:\u001b[0m\u001b[0;34m\u001b[0m\u001b[0;34m\u001b[0m\u001b[0m\n\u001b[0;32m--> 490\u001b[0;31m                 \u001b[0;32mreturn\u001b[0m \u001b[0mself\u001b[0m\u001b[0;34m.\u001b[0m\u001b[0m_get_auth_response_local_server\u001b[0m\u001b[0;34m(\u001b[0m\u001b[0mredirect_port\u001b[0m\u001b[0;34m)\u001b[0m\u001b[0;34m\u001b[0m\u001b[0;34m\u001b[0m\u001b[0m\n\u001b[0m\u001b[1;32m    491\u001b[0m             \u001b[0;32melse\u001b[0m\u001b[0;34m:\u001b[0m\u001b[0;34m\u001b[0m\u001b[0;34m\u001b[0m\u001b[0m\n\u001b[1;32m    492\u001b[0m                 logger.warning('Using `%s` as redirect URI without a port. '\n",
            "\u001b[0;32m/usr/local/lib/python3.10/dist-packages/spotipy/oauth2.py\u001b[0m in \u001b[0;36m_get_auth_response_local_server\u001b[0;34m(self, redirect_port)\u001b[0m\n\u001b[1;32m    457\u001b[0m         \u001b[0mserver\u001b[0m \u001b[0;34m=\u001b[0m \u001b[0mstart_local_http_server\u001b[0m\u001b[0;34m(\u001b[0m\u001b[0mredirect_port\u001b[0m\u001b[0;34m)\u001b[0m\u001b[0;34m\u001b[0m\u001b[0;34m\u001b[0m\u001b[0m\n\u001b[1;32m    458\u001b[0m         \u001b[0mself\u001b[0m\u001b[0;34m.\u001b[0m\u001b[0m_open_auth_url\u001b[0m\u001b[0;34m(\u001b[0m\u001b[0;34m)\u001b[0m\u001b[0;34m\u001b[0m\u001b[0;34m\u001b[0m\u001b[0m\n\u001b[0;32m--> 459\u001b[0;31m         \u001b[0mserver\u001b[0m\u001b[0;34m.\u001b[0m\u001b[0mhandle_request\u001b[0m\u001b[0;34m(\u001b[0m\u001b[0;34m)\u001b[0m\u001b[0;34m\u001b[0m\u001b[0;34m\u001b[0m\u001b[0m\n\u001b[0m\u001b[1;32m    460\u001b[0m \u001b[0;34m\u001b[0m\u001b[0m\n\u001b[1;32m    461\u001b[0m         \u001b[0;32mif\u001b[0m \u001b[0mserver\u001b[0m\u001b[0;34m.\u001b[0m\u001b[0merror\u001b[0m \u001b[0;32mis\u001b[0m \u001b[0;32mnot\u001b[0m \u001b[0;32mNone\u001b[0m\u001b[0;34m:\u001b[0m\u001b[0;34m\u001b[0m\u001b[0;34m\u001b[0m\u001b[0m\n",
            "\u001b[0;32m/usr/lib/python3.10/socketserver.py\u001b[0m in \u001b[0;36mhandle_request\u001b[0;34m(self)\u001b[0m\n\u001b[1;32m    292\u001b[0m \u001b[0;34m\u001b[0m\u001b[0m\n\u001b[1;32m    293\u001b[0m             \u001b[0;32mwhile\u001b[0m \u001b[0;32mTrue\u001b[0m\u001b[0;34m:\u001b[0m\u001b[0;34m\u001b[0m\u001b[0;34m\u001b[0m\u001b[0m\n\u001b[0;32m--> 294\u001b[0;31m                 \u001b[0mready\u001b[0m \u001b[0;34m=\u001b[0m \u001b[0mselector\u001b[0m\u001b[0;34m.\u001b[0m\u001b[0mselect\u001b[0m\u001b[0;34m(\u001b[0m\u001b[0mtimeout\u001b[0m\u001b[0;34m)\u001b[0m\u001b[0;34m\u001b[0m\u001b[0;34m\u001b[0m\u001b[0m\n\u001b[0m\u001b[1;32m    295\u001b[0m                 \u001b[0;32mif\u001b[0m \u001b[0mready\u001b[0m\u001b[0;34m:\u001b[0m\u001b[0;34m\u001b[0m\u001b[0;34m\u001b[0m\u001b[0m\n\u001b[1;32m    296\u001b[0m                     \u001b[0;32mreturn\u001b[0m \u001b[0mself\u001b[0m\u001b[0;34m.\u001b[0m\u001b[0m_handle_request_noblock\u001b[0m\u001b[0;34m(\u001b[0m\u001b[0;34m)\u001b[0m\u001b[0;34m\u001b[0m\u001b[0;34m\u001b[0m\u001b[0m\n",
            "\u001b[0;32m/usr/lib/python3.10/selectors.py\u001b[0m in \u001b[0;36mselect\u001b[0;34m(self, timeout)\u001b[0m\n\u001b[1;32m    414\u001b[0m         \u001b[0mready\u001b[0m \u001b[0;34m=\u001b[0m \u001b[0;34m[\u001b[0m\u001b[0;34m]\u001b[0m\u001b[0;34m\u001b[0m\u001b[0;34m\u001b[0m\u001b[0m\n\u001b[1;32m    415\u001b[0m         \u001b[0;32mtry\u001b[0m\u001b[0;34m:\u001b[0m\u001b[0;34m\u001b[0m\u001b[0;34m\u001b[0m\u001b[0m\n\u001b[0;32m--> 416\u001b[0;31m             \u001b[0mfd_event_list\u001b[0m \u001b[0;34m=\u001b[0m \u001b[0mself\u001b[0m\u001b[0;34m.\u001b[0m\u001b[0m_selector\u001b[0m\u001b[0;34m.\u001b[0m\u001b[0mpoll\u001b[0m\u001b[0;34m(\u001b[0m\u001b[0mtimeout\u001b[0m\u001b[0;34m)\u001b[0m\u001b[0;34m\u001b[0m\u001b[0;34m\u001b[0m\u001b[0m\n\u001b[0m\u001b[1;32m    417\u001b[0m         \u001b[0;32mexcept\u001b[0m \u001b[0mInterruptedError\u001b[0m\u001b[0;34m:\u001b[0m\u001b[0;34m\u001b[0m\u001b[0;34m\u001b[0m\u001b[0m\n\u001b[1;32m    418\u001b[0m             \u001b[0;32mreturn\u001b[0m \u001b[0mready\u001b[0m\u001b[0;34m\u001b[0m\u001b[0;34m\u001b[0m\u001b[0m\n",
            "\u001b[0;31mKeyboardInterrupt\u001b[0m: "
          ]
        }
      ],
      "source": [
        "# test \n",
        "#taylor_uri = 'spotify:artist:06HL4z0CvFAxyc27GXpf02'\n",
        "#results = sp.artist_albums(taylor_uri, album_type='album')\n",
        "#albums = results['items']\n",
        "#while results['next']:\n",
        "#    results = sp.next(results)\n",
        "#    albums.extend(results['items'])\n",
        "#for album in albums:\n",
        "#    print(album['name'])"
      ]
    },
    {
      "cell_type": "code",
      "source": [
        "# searching for a specific category (testing: technology)\n",
        "# https://developer.spotify.com/documentation/web-api/reference/search\n",
        "# requires: \n",
        "# q (available filters: album, artist, track, year, upc, tag:hipster, tag:new, isrc, and genre.)\n",
        "# type (\"album\", \"artist\", \"playlist\", \"track\", \"show\", \"episode\", \"audiobook\"), \n",
        "# market (ISO code or can be None),\n",
        "# limit (max number of results to return in each item type) between 0-50 - default 20\n",
        "# offset (index of first result to return, default 0, range 0-1000)"
      ],
      "metadata": {
        "id": "6n0pGsjkx8qR"
      },
      "execution_count": null,
      "outputs": []
    },
    {
      "cell_type": "markdown",
      "source": [
        "Helpful podcast API commands for setting up and creating our dataset on podcasts from the spotify API:"
      ],
      "metadata": {
        "id": "rwmeQK0s6ZW1"
      }
    },
    {
      "cell_type": "markdown",
      "source": [
        "![image.png](data:image/png;base64,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)"
      ],
      "metadata": {
        "id": "op2O3jxA6R_m"
      }
    },
    {
      "cell_type": "markdown",
      "source": [
        "# Importing Datasets"
      ],
      "metadata": {
        "id": "TpPVg5M_xrHl"
      }
    },
    {
      "cell_type": "code",
      "source": [
        "# importing the datasets\n",
        "itunes_categories = pd.read_json('/content/categories.json', lines=True)\n",
        "itunes_podcasts = pd.read_json('/content/podcasts.json', lines=True)\n",
        "itunes_reviews1 = pd.read_json('/content/1.json' , lines=True)\n",
        "itunes_reviews2 = pd.read_json('/content/2.json' , lines=True)\n",
        "itunes_reviews3 = pd.read_json('/content/3.json' , lines=True)\n",
        "#itunes_reviews4 = pd.read_json('/content/4.json' , lines=True)\n",
        "#itunes_reviews5 = pd.read_json('/content/5.json' , lines=True)\n",
        "#itunes_reviews6 = pd.read_json('/content/6.json' , lines=True)\n",
        "#itunes_reviews7 = pd.read_json('/content/7.json' , lines=True)\n"
      ],
      "metadata": {
        "id": "o6-mWxDn6hBS"
      },
      "execution_count": 4,
      "outputs": []
    },
    {
      "cell_type": "code",
      "source": [
        "# concat the reviews\n",
        "itunes_reviews = pd.concat([itunes_reviews1, itunes_reviews2, itunes_reviews3])"
      ],
      "metadata": {
        "id": "cQJQiiuK8eJa"
      },
      "execution_count": 5,
      "outputs": []
    },
    {
      "cell_type": "markdown",
      "source": [
        "#High level EDA on datasets:"
      ],
      "metadata": {
        "id": "s2a0J27B7Xl8"
      }
    },
    {
      "cell_type": "markdown",
      "source": [
        "## Categories"
      ],
      "metadata": {
        "id": "gT51dlBi7asj"
      }
    },
    {
      "cell_type": "code",
      "source": [
        "# attributes: podcast_id,\titunes_id,\tcategory\n",
        "itunes_categories.head()"
      ],
      "metadata": {
        "colab": {
          "base_uri": "https://localhost:8080/",
          "height": 206
        },
        "id": "_v4EVSuL6-xN",
        "outputId": "24ee6772-1510-42bd-ab44-e608b3f91ede"
      },
      "execution_count": 6,
      "outputs": [
        {
          "output_type": "execute_result",
          "data": {
            "text/plain": [
              "                         podcast_id   itunes_id              category\n",
              "0  943d1c4349913bde09ef82b69f83cfdf  1446474395             education\n",
              "1  f53f27d03cdc5040ab4fd2ea30e3dd4f   840646770       society-culture\n",
              "2  49fa5f1097ae9046ce1a0c56e31b533c  1541959455  arts-performing-arts\n",
              "3  dbe2dc5aa097523aa294a3b659293af4  1146609744               tv-film\n",
              "4  2349ed9d26f16029cfc69902bf319ca5  1475252651             education"
            ],
            "text/html": [
              "\n",
              "  <div id=\"df-ec1f8d8a-d33e-48cd-918a-94eba44677b6\">\n",
              "    <div class=\"colab-df-container\">\n",
              "      <div>\n",
              "<style scoped>\n",
              "    .dataframe tbody tr th:only-of-type {\n",
              "        vertical-align: middle;\n",
              "    }\n",
              "\n",
              "    .dataframe tbody tr th {\n",
              "        vertical-align: top;\n",
              "    }\n",
              "\n",
              "    .dataframe thead th {\n",
              "        text-align: right;\n",
              "    }\n",
              "</style>\n",
              "<table border=\"1\" class=\"dataframe\">\n",
              "  <thead>\n",
              "    <tr style=\"text-align: right;\">\n",
              "      <th></th>\n",
              "      <th>podcast_id</th>\n",
              "      <th>itunes_id</th>\n",
              "      <th>category</th>\n",
              "    </tr>\n",
              "  </thead>\n",
              "  <tbody>\n",
              "    <tr>\n",
              "      <th>0</th>\n",
              "      <td>943d1c4349913bde09ef82b69f83cfdf</td>\n",
              "      <td>1446474395</td>\n",
              "      <td>education</td>\n",
              "    </tr>\n",
              "    <tr>\n",
              "      <th>1</th>\n",
              "      <td>f53f27d03cdc5040ab4fd2ea30e3dd4f</td>\n",
              "      <td>840646770</td>\n",
              "      <td>society-culture</td>\n",
              "    </tr>\n",
              "    <tr>\n",
              "      <th>2</th>\n",
              "      <td>49fa5f1097ae9046ce1a0c56e31b533c</td>\n",
              "      <td>1541959455</td>\n",
              "      <td>arts-performing-arts</td>\n",
              "    </tr>\n",
              "    <tr>\n",
              "      <th>3</th>\n",
              "      <td>dbe2dc5aa097523aa294a3b659293af4</td>\n",
              "      <td>1146609744</td>\n",
              "      <td>tv-film</td>\n",
              "    </tr>\n",
              "    <tr>\n",
              "      <th>4</th>\n",
              "      <td>2349ed9d26f16029cfc69902bf319ca5</td>\n",
              "      <td>1475252651</td>\n",
              "      <td>education</td>\n",
              "    </tr>\n",
              "  </tbody>\n",
              "</table>\n",
              "</div>\n",
              "      <button class=\"colab-df-convert\" onclick=\"convertToInteractive('df-ec1f8d8a-d33e-48cd-918a-94eba44677b6')\"\n",
              "              title=\"Convert this dataframe to an interactive table.\"\n",
              "              style=\"display:none;\">\n",
              "        \n",
              "  <svg xmlns=\"http://www.w3.org/2000/svg\" height=\"24px\"viewBox=\"0 0 24 24\"\n",
              "       width=\"24px\">\n",
              "    <path d=\"M0 0h24v24H0V0z\" fill=\"none\"/>\n",
              "    <path d=\"M18.56 5.44l.94 2.06.94-2.06 2.06-.94-2.06-.94-.94-2.06-.94 2.06-2.06.94zm-11 1L8.5 8.5l.94-2.06 2.06-.94-2.06-.94L8.5 2.5l-.94 2.06-2.06.94zm10 10l.94 2.06.94-2.06 2.06-.94-2.06-.94-.94-2.06-.94 2.06-2.06.94z\"/><path d=\"M17.41 7.96l-1.37-1.37c-.4-.4-.92-.59-1.43-.59-.52 0-1.04.2-1.43.59L10.3 9.45l-7.72 7.72c-.78.78-.78 2.05 0 2.83L4 21.41c.39.39.9.59 1.41.59.51 0 1.02-.2 1.41-.59l7.78-7.78 2.81-2.81c.8-.78.8-2.07 0-2.86zM5.41 20L4 18.59l7.72-7.72 1.47 1.35L5.41 20z\"/>\n",
              "  </svg>\n",
              "      </button>\n",
              "      \n",
              "  <style>\n",
              "    .colab-df-container {\n",
              "      display:flex;\n",
              "      flex-wrap:wrap;\n",
              "      gap: 12px;\n",
              "    }\n",
              "\n",
              "    .colab-df-convert {\n",
              "      background-color: #E8F0FE;\n",
              "      border: none;\n",
              "      border-radius: 50%;\n",
              "      cursor: pointer;\n",
              "      display: none;\n",
              "      fill: #1967D2;\n",
              "      height: 32px;\n",
              "      padding: 0 0 0 0;\n",
              "      width: 32px;\n",
              "    }\n",
              "\n",
              "    .colab-df-convert:hover {\n",
              "      background-color: #E2EBFA;\n",
              "      box-shadow: 0px 1px 2px rgba(60, 64, 67, 0.3), 0px 1px 3px 1px rgba(60, 64, 67, 0.15);\n",
              "      fill: #174EA6;\n",
              "    }\n",
              "\n",
              "    [theme=dark] .colab-df-convert {\n",
              "      background-color: #3B4455;\n",
              "      fill: #D2E3FC;\n",
              "    }\n",
              "\n",
              "    [theme=dark] .colab-df-convert:hover {\n",
              "      background-color: #434B5C;\n",
              "      box-shadow: 0px 1px 3px 1px rgba(0, 0, 0, 0.15);\n",
              "      filter: drop-shadow(0px 1px 2px rgba(0, 0, 0, 0.3));\n",
              "      fill: #FFFFFF;\n",
              "    }\n",
              "  </style>\n",
              "\n",
              "      <script>\n",
              "        const buttonEl =\n",
              "          document.querySelector('#df-ec1f8d8a-d33e-48cd-918a-94eba44677b6 button.colab-df-convert');\n",
              "        buttonEl.style.display =\n",
              "          google.colab.kernel.accessAllowed ? 'block' : 'none';\n",
              "\n",
              "        async function convertToInteractive(key) {\n",
              "          const element = document.querySelector('#df-ec1f8d8a-d33e-48cd-918a-94eba44677b6');\n",
              "          const dataTable =\n",
              "            await google.colab.kernel.invokeFunction('convertToInteractive',\n",
              "                                                     [key], {});\n",
              "          if (!dataTable) return;\n",
              "\n",
              "          const docLinkHtml = 'Like what you see? Visit the ' +\n",
              "            '<a target=\"_blank\" href=https://colab.research.google.com/notebooks/data_table.ipynb>data table notebook</a>'\n",
              "            + ' to learn more about interactive tables.';\n",
              "          element.innerHTML = '';\n",
              "          dataTable['output_type'] = 'display_data';\n",
              "          await google.colab.output.renderOutput(dataTable, element);\n",
              "          const docLink = document.createElement('div');\n",
              "          docLink.innerHTML = docLinkHtml;\n",
              "          element.appendChild(docLink);\n",
              "        }\n",
              "      </script>\n",
              "    </div>\n",
              "  </div>\n",
              "  "
            ]
          },
          "metadata": {},
          "execution_count": 6
        }
      ]
    },
    {
      "cell_type": "code",
      "source": [
        "# not really interesting\n",
        "itunes_categories.describe()"
      ],
      "metadata": {
        "colab": {
          "base_uri": "https://localhost:8080/",
          "height": 300
        },
        "id": "zif_ZyZH7E9j",
        "outputId": "fede52fb-8fc3-4ed4-cbdc-213ad4aff040"
      },
      "execution_count": 7,
      "outputs": [
        {
          "output_type": "execute_result",
          "data": {
            "text/plain": [
              "          itunes_id\n",
              "count  3.706368e+06\n",
              "mean   1.424082e+09\n",
              "std    2.777828e+08\n",
              "min    7.332924e+07\n",
              "25%    1.466020e+09\n",
              "50%    1.520767e+09\n",
              "75%    1.553224e+09\n",
              "max    1.666196e+09"
            ],
            "text/html": [
              "\n",
              "  <div id=\"df-cc1b5706-0264-4e92-86d5-6d88fb9be941\">\n",
              "    <div class=\"colab-df-container\">\n",
              "      <div>\n",
              "<style scoped>\n",
              "    .dataframe tbody tr th:only-of-type {\n",
              "        vertical-align: middle;\n",
              "    }\n",
              "\n",
              "    .dataframe tbody tr th {\n",
              "        vertical-align: top;\n",
              "    }\n",
              "\n",
              "    .dataframe thead th {\n",
              "        text-align: right;\n",
              "    }\n",
              "</style>\n",
              "<table border=\"1\" class=\"dataframe\">\n",
              "  <thead>\n",
              "    <tr style=\"text-align: right;\">\n",
              "      <th></th>\n",
              "      <th>itunes_id</th>\n",
              "    </tr>\n",
              "  </thead>\n",
              "  <tbody>\n",
              "    <tr>\n",
              "      <th>count</th>\n",
              "      <td>3.706368e+06</td>\n",
              "    </tr>\n",
              "    <tr>\n",
              "      <th>mean</th>\n",
              "      <td>1.424082e+09</td>\n",
              "    </tr>\n",
              "    <tr>\n",
              "      <th>std</th>\n",
              "      <td>2.777828e+08</td>\n",
              "    </tr>\n",
              "    <tr>\n",
              "      <th>min</th>\n",
              "      <td>7.332924e+07</td>\n",
              "    </tr>\n",
              "    <tr>\n",
              "      <th>25%</th>\n",
              "      <td>1.466020e+09</td>\n",
              "    </tr>\n",
              "    <tr>\n",
              "      <th>50%</th>\n",
              "      <td>1.520767e+09</td>\n",
              "    </tr>\n",
              "    <tr>\n",
              "      <th>75%</th>\n",
              "      <td>1.553224e+09</td>\n",
              "    </tr>\n",
              "    <tr>\n",
              "      <th>max</th>\n",
              "      <td>1.666196e+09</td>\n",
              "    </tr>\n",
              "  </tbody>\n",
              "</table>\n",
              "</div>\n",
              "      <button class=\"colab-df-convert\" onclick=\"convertToInteractive('df-cc1b5706-0264-4e92-86d5-6d88fb9be941')\"\n",
              "              title=\"Convert this dataframe to an interactive table.\"\n",
              "              style=\"display:none;\">\n",
              "        \n",
              "  <svg xmlns=\"http://www.w3.org/2000/svg\" height=\"24px\"viewBox=\"0 0 24 24\"\n",
              "       width=\"24px\">\n",
              "    <path d=\"M0 0h24v24H0V0z\" fill=\"none\"/>\n",
              "    <path d=\"M18.56 5.44l.94 2.06.94-2.06 2.06-.94-2.06-.94-.94-2.06-.94 2.06-2.06.94zm-11 1L8.5 8.5l.94-2.06 2.06-.94-2.06-.94L8.5 2.5l-.94 2.06-2.06.94zm10 10l.94 2.06.94-2.06 2.06-.94-2.06-.94-.94-2.06-.94 2.06-2.06.94z\"/><path d=\"M17.41 7.96l-1.37-1.37c-.4-.4-.92-.59-1.43-.59-.52 0-1.04.2-1.43.59L10.3 9.45l-7.72 7.72c-.78.78-.78 2.05 0 2.83L4 21.41c.39.39.9.59 1.41.59.51 0 1.02-.2 1.41-.59l7.78-7.78 2.81-2.81c.8-.78.8-2.07 0-2.86zM5.41 20L4 18.59l7.72-7.72 1.47 1.35L5.41 20z\"/>\n",
              "  </svg>\n",
              "      </button>\n",
              "      \n",
              "  <style>\n",
              "    .colab-df-container {\n",
              "      display:flex;\n",
              "      flex-wrap:wrap;\n",
              "      gap: 12px;\n",
              "    }\n",
              "\n",
              "    .colab-df-convert {\n",
              "      background-color: #E8F0FE;\n",
              "      border: none;\n",
              "      border-radius: 50%;\n",
              "      cursor: pointer;\n",
              "      display: none;\n",
              "      fill: #1967D2;\n",
              "      height: 32px;\n",
              "      padding: 0 0 0 0;\n",
              "      width: 32px;\n",
              "    }\n",
              "\n",
              "    .colab-df-convert:hover {\n",
              "      background-color: #E2EBFA;\n",
              "      box-shadow: 0px 1px 2px rgba(60, 64, 67, 0.3), 0px 1px 3px 1px rgba(60, 64, 67, 0.15);\n",
              "      fill: #174EA6;\n",
              "    }\n",
              "\n",
              "    [theme=dark] .colab-df-convert {\n",
              "      background-color: #3B4455;\n",
              "      fill: #D2E3FC;\n",
              "    }\n",
              "\n",
              "    [theme=dark] .colab-df-convert:hover {\n",
              "      background-color: #434B5C;\n",
              "      box-shadow: 0px 1px 3px 1px rgba(0, 0, 0, 0.15);\n",
              "      filter: drop-shadow(0px 1px 2px rgba(0, 0, 0, 0.3));\n",
              "      fill: #FFFFFF;\n",
              "    }\n",
              "  </style>\n",
              "\n",
              "      <script>\n",
              "        const buttonEl =\n",
              "          document.querySelector('#df-cc1b5706-0264-4e92-86d5-6d88fb9be941 button.colab-df-convert');\n",
              "        buttonEl.style.display =\n",
              "          google.colab.kernel.accessAllowed ? 'block' : 'none';\n",
              "\n",
              "        async function convertToInteractive(key) {\n",
              "          const element = document.querySelector('#df-cc1b5706-0264-4e92-86d5-6d88fb9be941');\n",
              "          const dataTable =\n",
              "            await google.colab.kernel.invokeFunction('convertToInteractive',\n",
              "                                                     [key], {});\n",
              "          if (!dataTable) return;\n",
              "\n",
              "          const docLinkHtml = 'Like what you see? Visit the ' +\n",
              "            '<a target=\"_blank\" href=https://colab.research.google.com/notebooks/data_table.ipynb>data table notebook</a>'\n",
              "            + ' to learn more about interactive tables.';\n",
              "          element.innerHTML = '';\n",
              "          dataTable['output_type'] = 'display_data';\n",
              "          await google.colab.output.renderOutput(dataTable, element);\n",
              "          const docLink = document.createElement('div');\n",
              "          docLink.innerHTML = docLinkHtml;\n",
              "          element.appendChild(docLink);\n",
              "        }\n",
              "      </script>\n",
              "    </div>\n",
              "  </div>\n",
              "  "
            ]
          },
          "metadata": {},
          "execution_count": 7
        }
      ]
    },
    {
      "cell_type": "code",
      "source": [
        "# unique values \n",
        "categories = itunes_categories.category.unique()\n",
        "print(len(categories))\n",
        "print(categories)"
      ],
      "metadata": {
        "colab": {
          "base_uri": "https://localhost:8080/"
        },
        "id": "h56WuyE2Pmt7",
        "outputId": "a54642f7-79be-4649-e799-a5ccbccfd06a"
      },
      "execution_count": 9,
      "outputs": [
        {
          "output_type": "stream",
          "name": "stdout",
          "text": [
            "110\n",
            "['education' 'society-culture' 'arts-performing-arts' 'tv-film' 'arts'\n",
            " 'business' 'technology' 'education-self-improvement' 'fiction'\n",
            " 'religion-spirituality' 'education-how-to' 'christianity' 'government'\n",
            " 'education-language-learning' 'arts-fashion-beauty' 'arts-visual-arts'\n",
            " 'business-careers' 'arts-design' 'society-culture-personal-journals'\n",
            " 'kids-family' 'comedy' 'business-investing' 'society-culture-philosophy'\n",
            " 'music' 'health-fitness' 'society-culture-places-travel' 'spirituality'\n",
            " 'arts-food' 'fiction-comedy-fiction' 'islam' 'fiction-drama' 'judaism'\n",
            " 'fiction-science-fiction' 'hinduism' 'buddhism' 'leisure-games' 'sports'\n",
            " 'business-entrepreneurship' 'leisure' 'arts-books'\n",
            " 'kids-family-stories-for-kids' 'news' 'business-non-profit' 'science'\n",
            " 'news-entertainment-news' 'leisure-video-games'\n",
            " 'health-fitness-alternative-health' 'comedy-stand-up' 'history'\n",
            " 'science-chemistry' 'sports-wilderness' 'health-fitness-mental-health'\n",
            " 'true-crime' 'religion' 'comedy-improv' 'leisure-hobbies'\n",
            " 'society-culture-documentary' 'science-natural-sciences' 'sports-soccer'\n",
            " 'tv-film-tv-reviews' 'leisure-home-garden' 'education-courses'\n",
            " 'music-music-interviews' 'tv-film-film-reviews' 'news-daily-news'\n",
            " 'news-business-news' 'business-marketing' 'music-music-commentary'\n",
            " 'health-fitness-nutrition' 'health-fitness-fitness' 'news-tech-news'\n",
            " 'kids-family-parenting' 'sports-football' 'news-politics'\n",
            " 'comedy-comedy-interviews' 'health-fitness-medicine'\n",
            " 'leisure-animation-manga' 'news-sports-news' 'business-management'\n",
            " 'sports-tennis' 'sports-golf' 'society-culture-relationships'\n",
            " 'news-news-commentary' 'sports-swimming' 'science-astronomy'\n",
            " 'science-nature' 'sports-basketball' 'science-social-sciences'\n",
            " 'sports-hockey' 'sports-baseball' 'tv-film-after-shows'\n",
            " 'kids-family-pets-animals' 'tv-film-film-history'\n",
            " 'health-fitness-sexuality' 'sports-wrestling' 'science-life-sciences'\n",
            " 'kids-family-education-for-kids' 'leisure-crafts' 'leisure-automotive'\n",
            " 'science-physics' 'leisure-aviation' 'sports-fantasy-sports'\n",
            " 'music-music-history' 'tv-film-film-interviews' 'science-mathematics'\n",
            " 'science-earth-sciences' 'sports-cricket' 'sports-running'\n",
            " 'sports-volleyball' 'sports-rugby']\n"
          ]
        }
      ]
    },
    {
      "cell_type": "code",
      "source": [
        "# number of rows\n",
        "len(itunes_categories.index)"
      ],
      "metadata": {
        "colab": {
          "base_uri": "https://localhost:8080/"
        },
        "id": "KkSublFK7Vqx",
        "outputId": "3ee8fb37-bcb3-4286-fa1b-88641f60e42e"
      },
      "execution_count": 10,
      "outputs": [
        {
          "output_type": "execute_result",
          "data": {
            "text/plain": [
              "3706368"
            ]
          },
          "metadata": {},
          "execution_count": 10
        }
      ]
    },
    {
      "cell_type": "code",
      "source": [
        "# unique ids\n",
        "len(itunes_categories.itunes_id.unique())"
      ],
      "metadata": {
        "colab": {
          "base_uri": "https://localhost:8080/"
        },
        "id": "FvdZZkTbS5pz",
        "outputId": "2a59f8e4-96f4-4c17-911c-5c475b09f412"
      },
      "execution_count": 19,
      "outputs": [
        {
          "output_type": "execute_result",
          "data": {
            "text/plain": [
              "2064893"
            ]
          },
          "metadata": {},
          "execution_count": 19
        }
      ]
    },
    {
      "cell_type": "code",
      "source": [
        "# check nulls\n",
        "itunes_categories.isnull().sum()"
      ],
      "metadata": {
        "colab": {
          "base_uri": "https://localhost:8080/"
        },
        "id": "-h3Aa4I7XeeU",
        "outputId": "fefd837a-364a-468e-a761-53b332212f75"
      },
      "execution_count": 34,
      "outputs": [
        {
          "output_type": "execute_result",
          "data": {
            "text/plain": [
              "podcast_id    0\n",
              "itunes_id     0\n",
              "category      0\n",
              "dtype: int64"
            ]
          },
          "metadata": {},
          "execution_count": 34
        }
      ]
    },
    {
      "cell_type": "markdown",
      "source": [
        "## Podcasts"
      ],
      "metadata": {
        "id": "kTXQT3ZEP7Ql"
      }
    },
    {
      "cell_type": "code",
      "source": [
        "# podcast_id\titunes_id\tslug\titunes_url\ttitle\tauthor\tdescription\taverage_rating\tratings_count\tscraped_at\n",
        "itunes_podcasts.head()"
      ],
      "metadata": {
        "colab": {
          "base_uri": "https://localhost:8080/",
          "height": 444
        },
        "id": "mVtlRL1j7Hqo",
        "outputId": "469c1a8e-0ca4-45f8-9dbe-4f9baf45d19e"
      },
      "execution_count": 11,
      "outputs": [
        {
          "output_type": "execute_result",
          "data": {
            "text/plain": [
              "                         podcast_id   itunes_id  \\\n",
              "0  d3997f1089be9e45fda4113be39765cb  1000000618   \n",
              "1  f201172864310534ae6b6c4f8ae9b8cc  1000016089   \n",
              "2  4e5ce6a47e5d491aac3f588cfb3ece73  1000016800   \n",
              "3  6c476d3dd90c3fe5381153354b326952  1000035657   \n",
              "4  b9e7fdf5cd545fc8097055e2f2f1d760  1000035702   \n",
              "\n",
              "                                  slug  \\\n",
              "0   christianity-questions-and-answers   \n",
              "1                  rahdo-talks-through   \n",
              "2  st-neots-evangelical-church-sermons   \n",
              "3                       idiotspeakshow   \n",
              "4              conciertos-en-el-living   \n",
              "\n",
              "                                          itunes_url                title  \\\n",
              "0  https://podcasts.apple.com/us/podcast/christia...                 None   \n",
              "1  https://podcasts.apple.com/us/podcast/rahdo-ta...  Rahdo Talks Through   \n",
              "2  https://podcasts.apple.com/us/podcast/st-neots...                 None   \n",
              "3  https://podcasts.apple.com/us/podcast/idiotspe...       IdiotSpeakShow   \n",
              "4  https://podcasts.apple.com/us/podcast/conciert...                 None   \n",
              "\n",
              "                              author  \\\n",
              "0                               None   \n",
              "1  noreply@blogger.com (Richard Ham)   \n",
              "2                               None   \n",
              "3                     IdiotSpeakShow   \n",
              "4                               None   \n",
              "\n",
              "                                         description  average_rating  \\\n",
              "0                                               None             NaN   \n",
              "1  Richard \"Rahdo\" Ham talks (at great length) al...             4.6   \n",
              "2                                               None             NaN   \n",
              "3                          Podcast by IdiotSpeakShow             NaN   \n",
              "4                                               None             NaN   \n",
              "\n",
              "  ratings_count                 scraped_at  \n",
              "0          None                        NaT  \n",
              "1            60 2019-07-08 06:15:45.106345  \n",
              "2          None                        NaT  \n",
              "3          None 2019-07-08 06:01:23.683147  \n",
              "4          None                        NaT  "
            ],
            "text/html": [
              "\n",
              "  <div id=\"df-1551f98c-aabe-41e8-bfe3-86bd0e97df7e\">\n",
              "    <div class=\"colab-df-container\">\n",
              "      <div>\n",
              "<style scoped>\n",
              "    .dataframe tbody tr th:only-of-type {\n",
              "        vertical-align: middle;\n",
              "    }\n",
              "\n",
              "    .dataframe tbody tr th {\n",
              "        vertical-align: top;\n",
              "    }\n",
              "\n",
              "    .dataframe thead th {\n",
              "        text-align: right;\n",
              "    }\n",
              "</style>\n",
              "<table border=\"1\" class=\"dataframe\">\n",
              "  <thead>\n",
              "    <tr style=\"text-align: right;\">\n",
              "      <th></th>\n",
              "      <th>podcast_id</th>\n",
              "      <th>itunes_id</th>\n",
              "      <th>slug</th>\n",
              "      <th>itunes_url</th>\n",
              "      <th>title</th>\n",
              "      <th>author</th>\n",
              "      <th>description</th>\n",
              "      <th>average_rating</th>\n",
              "      <th>ratings_count</th>\n",
              "      <th>scraped_at</th>\n",
              "    </tr>\n",
              "  </thead>\n",
              "  <tbody>\n",
              "    <tr>\n",
              "      <th>0</th>\n",
              "      <td>d3997f1089be9e45fda4113be39765cb</td>\n",
              "      <td>1000000618</td>\n",
              "      <td>christianity-questions-and-answers</td>\n",
              "      <td>https://podcasts.apple.com/us/podcast/christia...</td>\n",
              "      <td>None</td>\n",
              "      <td>None</td>\n",
              "      <td>None</td>\n",
              "      <td>NaN</td>\n",
              "      <td>None</td>\n",
              "      <td>NaT</td>\n",
              "    </tr>\n",
              "    <tr>\n",
              "      <th>1</th>\n",
              "      <td>f201172864310534ae6b6c4f8ae9b8cc</td>\n",
              "      <td>1000016089</td>\n",
              "      <td>rahdo-talks-through</td>\n",
              "      <td>https://podcasts.apple.com/us/podcast/rahdo-ta...</td>\n",
              "      <td>Rahdo Talks Through</td>\n",
              "      <td>noreply@blogger.com (Richard Ham)</td>\n",
              "      <td>Richard \"Rahdo\" Ham talks (at great length) al...</td>\n",
              "      <td>4.6</td>\n",
              "      <td>60</td>\n",
              "      <td>2019-07-08 06:15:45.106345</td>\n",
              "    </tr>\n",
              "    <tr>\n",
              "      <th>2</th>\n",
              "      <td>4e5ce6a47e5d491aac3f588cfb3ece73</td>\n",
              "      <td>1000016800</td>\n",
              "      <td>st-neots-evangelical-church-sermons</td>\n",
              "      <td>https://podcasts.apple.com/us/podcast/st-neots...</td>\n",
              "      <td>None</td>\n",
              "      <td>None</td>\n",
              "      <td>None</td>\n",
              "      <td>NaN</td>\n",
              "      <td>None</td>\n",
              "      <td>NaT</td>\n",
              "    </tr>\n",
              "    <tr>\n",
              "      <th>3</th>\n",
              "      <td>6c476d3dd90c3fe5381153354b326952</td>\n",
              "      <td>1000035657</td>\n",
              "      <td>idiotspeakshow</td>\n",
              "      <td>https://podcasts.apple.com/us/podcast/idiotspe...</td>\n",
              "      <td>IdiotSpeakShow</td>\n",
              "      <td>IdiotSpeakShow</td>\n",
              "      <td>Podcast by IdiotSpeakShow</td>\n",
              "      <td>NaN</td>\n",
              "      <td>None</td>\n",
              "      <td>2019-07-08 06:01:23.683147</td>\n",
              "    </tr>\n",
              "    <tr>\n",
              "      <th>4</th>\n",
              "      <td>b9e7fdf5cd545fc8097055e2f2f1d760</td>\n",
              "      <td>1000035702</td>\n",
              "      <td>conciertos-en-el-living</td>\n",
              "      <td>https://podcasts.apple.com/us/podcast/conciert...</td>\n",
              "      <td>None</td>\n",
              "      <td>None</td>\n",
              "      <td>None</td>\n",
              "      <td>NaN</td>\n",
              "      <td>None</td>\n",
              "      <td>NaT</td>\n",
              "    </tr>\n",
              "  </tbody>\n",
              "</table>\n",
              "</div>\n",
              "      <button class=\"colab-df-convert\" onclick=\"convertToInteractive('df-1551f98c-aabe-41e8-bfe3-86bd0e97df7e')\"\n",
              "              title=\"Convert this dataframe to an interactive table.\"\n",
              "              style=\"display:none;\">\n",
              "        \n",
              "  <svg xmlns=\"http://www.w3.org/2000/svg\" height=\"24px\"viewBox=\"0 0 24 24\"\n",
              "       width=\"24px\">\n",
              "    <path d=\"M0 0h24v24H0V0z\" fill=\"none\"/>\n",
              "    <path d=\"M18.56 5.44l.94 2.06.94-2.06 2.06-.94-2.06-.94-.94-2.06-.94 2.06-2.06.94zm-11 1L8.5 8.5l.94-2.06 2.06-.94-2.06-.94L8.5 2.5l-.94 2.06-2.06.94zm10 10l.94 2.06.94-2.06 2.06-.94-2.06-.94-.94-2.06-.94 2.06-2.06.94z\"/><path d=\"M17.41 7.96l-1.37-1.37c-.4-.4-.92-.59-1.43-.59-.52 0-1.04.2-1.43.59L10.3 9.45l-7.72 7.72c-.78.78-.78 2.05 0 2.83L4 21.41c.39.39.9.59 1.41.59.51 0 1.02-.2 1.41-.59l7.78-7.78 2.81-2.81c.8-.78.8-2.07 0-2.86zM5.41 20L4 18.59l7.72-7.72 1.47 1.35L5.41 20z\"/>\n",
              "  </svg>\n",
              "      </button>\n",
              "      \n",
              "  <style>\n",
              "    .colab-df-container {\n",
              "      display:flex;\n",
              "      flex-wrap:wrap;\n",
              "      gap: 12px;\n",
              "    }\n",
              "\n",
              "    .colab-df-convert {\n",
              "      background-color: #E8F0FE;\n",
              "      border: none;\n",
              "      border-radius: 50%;\n",
              "      cursor: pointer;\n",
              "      display: none;\n",
              "      fill: #1967D2;\n",
              "      height: 32px;\n",
              "      padding: 0 0 0 0;\n",
              "      width: 32px;\n",
              "    }\n",
              "\n",
              "    .colab-df-convert:hover {\n",
              "      background-color: #E2EBFA;\n",
              "      box-shadow: 0px 1px 2px rgba(60, 64, 67, 0.3), 0px 1px 3px 1px rgba(60, 64, 67, 0.15);\n",
              "      fill: #174EA6;\n",
              "    }\n",
              "\n",
              "    [theme=dark] .colab-df-convert {\n",
              "      background-color: #3B4455;\n",
              "      fill: #D2E3FC;\n",
              "    }\n",
              "\n",
              "    [theme=dark] .colab-df-convert:hover {\n",
              "      background-color: #434B5C;\n",
              "      box-shadow: 0px 1px 3px 1px rgba(0, 0, 0, 0.15);\n",
              "      filter: drop-shadow(0px 1px 2px rgba(0, 0, 0, 0.3));\n",
              "      fill: #FFFFFF;\n",
              "    }\n",
              "  </style>\n",
              "\n",
              "      <script>\n",
              "        const buttonEl =\n",
              "          document.querySelector('#df-1551f98c-aabe-41e8-bfe3-86bd0e97df7e button.colab-df-convert');\n",
              "        buttonEl.style.display =\n",
              "          google.colab.kernel.accessAllowed ? 'block' : 'none';\n",
              "\n",
              "        async function convertToInteractive(key) {\n",
              "          const element = document.querySelector('#df-1551f98c-aabe-41e8-bfe3-86bd0e97df7e');\n",
              "          const dataTable =\n",
              "            await google.colab.kernel.invokeFunction('convertToInteractive',\n",
              "                                                     [key], {});\n",
              "          if (!dataTable) return;\n",
              "\n",
              "          const docLinkHtml = 'Like what you see? Visit the ' +\n",
              "            '<a target=\"_blank\" href=https://colab.research.google.com/notebooks/data_table.ipynb>data table notebook</a>'\n",
              "            + ' to learn more about interactive tables.';\n",
              "          element.innerHTML = '';\n",
              "          dataTable['output_type'] = 'display_data';\n",
              "          await google.colab.output.renderOutput(dataTable, element);\n",
              "          const docLink = document.createElement('div');\n",
              "          docLink.innerHTML = docLinkHtml;\n",
              "          element.appendChild(docLink);\n",
              "        }\n",
              "      </script>\n",
              "    </div>\n",
              "  </div>\n",
              "  "
            ]
          },
          "metadata": {},
          "execution_count": 11
        }
      ]
    },
    {
      "cell_type": "code",
      "source": [
        "itunes_podcasts.describe()"
      ],
      "metadata": {
        "colab": {
          "base_uri": "https://localhost:8080/",
          "height": 300
        },
        "id": "j4saEFiv7N8k",
        "outputId": "84b6c4fa-42a5-4aac-abdf-a746e98314bb"
      },
      "execution_count": 12,
      "outputs": [
        {
          "output_type": "execute_result",
          "data": {
            "text/plain": [
              "          itunes_id  average_rating\n",
              "count  2.077665e+06    82988.000000\n",
              "mean   1.424660e+09        4.709076\n",
              "std    2.764353e+08        0.625235\n",
              "min    7.332924e+07        1.000000\n",
              "25%    1.462581e+09        4.700000\n",
              "50%    1.520676e+09        5.000000\n",
              "75%    1.553498e+09        5.000000\n",
              "max    1.666196e+09        5.000000"
            ],
            "text/html": [
              "\n",
              "  <div id=\"df-711d33ec-9a99-489f-bdde-0961b5beaf76\">\n",
              "    <div class=\"colab-df-container\">\n",
              "      <div>\n",
              "<style scoped>\n",
              "    .dataframe tbody tr th:only-of-type {\n",
              "        vertical-align: middle;\n",
              "    }\n",
              "\n",
              "    .dataframe tbody tr th {\n",
              "        vertical-align: top;\n",
              "    }\n",
              "\n",
              "    .dataframe thead th {\n",
              "        text-align: right;\n",
              "    }\n",
              "</style>\n",
              "<table border=\"1\" class=\"dataframe\">\n",
              "  <thead>\n",
              "    <tr style=\"text-align: right;\">\n",
              "      <th></th>\n",
              "      <th>itunes_id</th>\n",
              "      <th>average_rating</th>\n",
              "    </tr>\n",
              "  </thead>\n",
              "  <tbody>\n",
              "    <tr>\n",
              "      <th>count</th>\n",
              "      <td>2.077665e+06</td>\n",
              "      <td>82988.000000</td>\n",
              "    </tr>\n",
              "    <tr>\n",
              "      <th>mean</th>\n",
              "      <td>1.424660e+09</td>\n",
              "      <td>4.709076</td>\n",
              "    </tr>\n",
              "    <tr>\n",
              "      <th>std</th>\n",
              "      <td>2.764353e+08</td>\n",
              "      <td>0.625235</td>\n",
              "    </tr>\n",
              "    <tr>\n",
              "      <th>min</th>\n",
              "      <td>7.332924e+07</td>\n",
              "      <td>1.000000</td>\n",
              "    </tr>\n",
              "    <tr>\n",
              "      <th>25%</th>\n",
              "      <td>1.462581e+09</td>\n",
              "      <td>4.700000</td>\n",
              "    </tr>\n",
              "    <tr>\n",
              "      <th>50%</th>\n",
              "      <td>1.520676e+09</td>\n",
              "      <td>5.000000</td>\n",
              "    </tr>\n",
              "    <tr>\n",
              "      <th>75%</th>\n",
              "      <td>1.553498e+09</td>\n",
              "      <td>5.000000</td>\n",
              "    </tr>\n",
              "    <tr>\n",
              "      <th>max</th>\n",
              "      <td>1.666196e+09</td>\n",
              "      <td>5.000000</td>\n",
              "    </tr>\n",
              "  </tbody>\n",
              "</table>\n",
              "</div>\n",
              "      <button class=\"colab-df-convert\" onclick=\"convertToInteractive('df-711d33ec-9a99-489f-bdde-0961b5beaf76')\"\n",
              "              title=\"Convert this dataframe to an interactive table.\"\n",
              "              style=\"display:none;\">\n",
              "        \n",
              "  <svg xmlns=\"http://www.w3.org/2000/svg\" height=\"24px\"viewBox=\"0 0 24 24\"\n",
              "       width=\"24px\">\n",
              "    <path d=\"M0 0h24v24H0V0z\" fill=\"none\"/>\n",
              "    <path d=\"M18.56 5.44l.94 2.06.94-2.06 2.06-.94-2.06-.94-.94-2.06-.94 2.06-2.06.94zm-11 1L8.5 8.5l.94-2.06 2.06-.94-2.06-.94L8.5 2.5l-.94 2.06-2.06.94zm10 10l.94 2.06.94-2.06 2.06-.94-2.06-.94-.94-2.06-.94 2.06-2.06.94z\"/><path d=\"M17.41 7.96l-1.37-1.37c-.4-.4-.92-.59-1.43-.59-.52 0-1.04.2-1.43.59L10.3 9.45l-7.72 7.72c-.78.78-.78 2.05 0 2.83L4 21.41c.39.39.9.59 1.41.59.51 0 1.02-.2 1.41-.59l7.78-7.78 2.81-2.81c.8-.78.8-2.07 0-2.86zM5.41 20L4 18.59l7.72-7.72 1.47 1.35L5.41 20z\"/>\n",
              "  </svg>\n",
              "      </button>\n",
              "      \n",
              "  <style>\n",
              "    .colab-df-container {\n",
              "      display:flex;\n",
              "      flex-wrap:wrap;\n",
              "      gap: 12px;\n",
              "    }\n",
              "\n",
              "    .colab-df-convert {\n",
              "      background-color: #E8F0FE;\n",
              "      border: none;\n",
              "      border-radius: 50%;\n",
              "      cursor: pointer;\n",
              "      display: none;\n",
              "      fill: #1967D2;\n",
              "      height: 32px;\n",
              "      padding: 0 0 0 0;\n",
              "      width: 32px;\n",
              "    }\n",
              "\n",
              "    .colab-df-convert:hover {\n",
              "      background-color: #E2EBFA;\n",
              "      box-shadow: 0px 1px 2px rgba(60, 64, 67, 0.3), 0px 1px 3px 1px rgba(60, 64, 67, 0.15);\n",
              "      fill: #174EA6;\n",
              "    }\n",
              "\n",
              "    [theme=dark] .colab-df-convert {\n",
              "      background-color: #3B4455;\n",
              "      fill: #D2E3FC;\n",
              "    }\n",
              "\n",
              "    [theme=dark] .colab-df-convert:hover {\n",
              "      background-color: #434B5C;\n",
              "      box-shadow: 0px 1px 3px 1px rgba(0, 0, 0, 0.15);\n",
              "      filter: drop-shadow(0px 1px 2px rgba(0, 0, 0, 0.3));\n",
              "      fill: #FFFFFF;\n",
              "    }\n",
              "  </style>\n",
              "\n",
              "      <script>\n",
              "        const buttonEl =\n",
              "          document.querySelector('#df-711d33ec-9a99-489f-bdde-0961b5beaf76 button.colab-df-convert');\n",
              "        buttonEl.style.display =\n",
              "          google.colab.kernel.accessAllowed ? 'block' : 'none';\n",
              "\n",
              "        async function convertToInteractive(key) {\n",
              "          const element = document.querySelector('#df-711d33ec-9a99-489f-bdde-0961b5beaf76');\n",
              "          const dataTable =\n",
              "            await google.colab.kernel.invokeFunction('convertToInteractive',\n",
              "                                                     [key], {});\n",
              "          if (!dataTable) return;\n",
              "\n",
              "          const docLinkHtml = 'Like what you see? Visit the ' +\n",
              "            '<a target=\"_blank\" href=https://colab.research.google.com/notebooks/data_table.ipynb>data table notebook</a>'\n",
              "            + ' to learn more about interactive tables.';\n",
              "          element.innerHTML = '';\n",
              "          dataTable['output_type'] = 'display_data';\n",
              "          await google.colab.output.renderOutput(dataTable, element);\n",
              "          const docLink = document.createElement('div');\n",
              "          docLink.innerHTML = docLinkHtml;\n",
              "          element.appendChild(docLink);\n",
              "        }\n",
              "      </script>\n",
              "    </div>\n",
              "  </div>\n",
              "  "
            ]
          },
          "metadata": {},
          "execution_count": 12
        }
      ]
    },
    {
      "cell_type": "code",
      "source": [
        "# number of rows\n",
        "len(itunes_podcasts.index)"
      ],
      "metadata": {
        "colab": {
          "base_uri": "https://localhost:8080/"
        },
        "id": "Onyc_vfb7pai",
        "outputId": "9e83f9ef-2f3e-4096-c3a8-1fe202fd3450"
      },
      "execution_count": 23,
      "outputs": [
        {
          "output_type": "execute_result",
          "data": {
            "text/plain": [
              "2077665"
            ]
          },
          "metadata": {},
          "execution_count": 23
        }
      ]
    },
    {
      "cell_type": "code",
      "source": [
        "# confirm unique podcast ids\n",
        "len(itunes_podcasts.itunes_id.unique())"
      ],
      "metadata": {
        "colab": {
          "base_uri": "https://localhost:8080/"
        },
        "id": "nx6YGygyQOvx",
        "outputId": "ac3fe286-d263-4496-81f5-9a0843a73c3d"
      },
      "execution_count": 18,
      "outputs": [
        {
          "output_type": "execute_result",
          "data": {
            "text/plain": [
              "2077665"
            ]
          },
          "metadata": {},
          "execution_count": 18
        }
      ]
    },
    {
      "cell_type": "code",
      "source": [
        "itunes_podcasts.isnull().sum()"
      ],
      "metadata": {
        "colab": {
          "base_uri": "https://localhost:8080/"
        },
        "id": "9jzGFvItXwtx",
        "outputId": "5678e5cf-597b-4040-b431-af7a76eaf60d"
      },
      "execution_count": 35,
      "outputs": [
        {
          "output_type": "execute_result",
          "data": {
            "text/plain": [
              "podcast_id              0\n",
              "itunes_id               0\n",
              "slug                    0\n",
              "itunes_url              0\n",
              "title             1923844\n",
              "author            1923844\n",
              "description       1927857\n",
              "average_rating    1994677\n",
              "ratings_count     1994677\n",
              "scraped_at        1923844\n",
              "dtype: int64"
            ]
          },
          "metadata": {},
          "execution_count": 35
        }
      ]
    },
    {
      "cell_type": "markdown",
      "source": [
        "## Review overlap between the podcasts and categories"
      ],
      "metadata": {
        "id": "PJcVjiGwX3D6"
      }
    },
    {
      "cell_type": "code",
      "source": [
        "# overlap between podcasts and categories\n",
        "combined = itunes_podcasts.merge(itunes_categories, on=['podcast_id', 'itunes_id'], how='left', indicator=True)"
      ],
      "metadata": {
        "id": "H4yXm6EATESz"
      },
      "execution_count": 25,
      "outputs": []
    },
    {
      "cell_type": "code",
      "source": [
        "combined.head()"
      ],
      "metadata": {
        "colab": {
          "base_uri": "https://localhost:8080/",
          "height": 565
        },
        "id": "pASZlC09TZ5W",
        "outputId": "7d33688d-117c-4c99-bb57-2e6793c10fff"
      },
      "execution_count": 26,
      "outputs": [
        {
          "output_type": "execute_result",
          "data": {
            "text/plain": [
              "                         podcast_id   itunes_id  \\\n",
              "0  d3997f1089be9e45fda4113be39765cb  1000000618   \n",
              "1  d3997f1089be9e45fda4113be39765cb  1000000618   \n",
              "2  f201172864310534ae6b6c4f8ae9b8cc  1000016089   \n",
              "3  f201172864310534ae6b6c4f8ae9b8cc  1000016089   \n",
              "4  4e5ce6a47e5d491aac3f588cfb3ece73  1000016800   \n",
              "\n",
              "                                  slug  \\\n",
              "0   christianity-questions-and-answers   \n",
              "1   christianity-questions-and-answers   \n",
              "2                  rahdo-talks-through   \n",
              "3                  rahdo-talks-through   \n",
              "4  st-neots-evangelical-church-sermons   \n",
              "\n",
              "                                          itunes_url                title  \\\n",
              "0  https://podcasts.apple.com/us/podcast/christia...                 None   \n",
              "1  https://podcasts.apple.com/us/podcast/christia...                 None   \n",
              "2  https://podcasts.apple.com/us/podcast/rahdo-ta...  Rahdo Talks Through   \n",
              "3  https://podcasts.apple.com/us/podcast/rahdo-ta...  Rahdo Talks Through   \n",
              "4  https://podcasts.apple.com/us/podcast/st-neots...                 None   \n",
              "\n",
              "                              author  \\\n",
              "0                               None   \n",
              "1                               None   \n",
              "2  noreply@blogger.com (Richard Ham)   \n",
              "3  noreply@blogger.com (Richard Ham)   \n",
              "4                               None   \n",
              "\n",
              "                                         description  average_rating  \\\n",
              "0                                               None             NaN   \n",
              "1                                               None             NaN   \n",
              "2  Richard \"Rahdo\" Ham talks (at great length) al...             4.6   \n",
              "3  Richard \"Rahdo\" Ham talks (at great length) al...             4.6   \n",
              "4                                               None             NaN   \n",
              "\n",
              "  ratings_count                 scraped_at               category _merge  \n",
              "0          None                        NaT  religion-spirituality   both  \n",
              "1          None                        NaT           christianity   both  \n",
              "2            60 2019-07-08 06:15:45.106345          leisure-games   both  \n",
              "3            60 2019-07-08 06:15:45.106345                leisure   both  \n",
              "4          None                        NaT  religion-spirituality   both  "
            ],
            "text/html": [
              "\n",
              "  <div id=\"df-42b25cfe-a5c8-48ab-878d-01c3e2b71e7f\">\n",
              "    <div class=\"colab-df-container\">\n",
              "      <div>\n",
              "<style scoped>\n",
              "    .dataframe tbody tr th:only-of-type {\n",
              "        vertical-align: middle;\n",
              "    }\n",
              "\n",
              "    .dataframe tbody tr th {\n",
              "        vertical-align: top;\n",
              "    }\n",
              "\n",
              "    .dataframe thead th {\n",
              "        text-align: right;\n",
              "    }\n",
              "</style>\n",
              "<table border=\"1\" class=\"dataframe\">\n",
              "  <thead>\n",
              "    <tr style=\"text-align: right;\">\n",
              "      <th></th>\n",
              "      <th>podcast_id</th>\n",
              "      <th>itunes_id</th>\n",
              "      <th>slug</th>\n",
              "      <th>itunes_url</th>\n",
              "      <th>title</th>\n",
              "      <th>author</th>\n",
              "      <th>description</th>\n",
              "      <th>average_rating</th>\n",
              "      <th>ratings_count</th>\n",
              "      <th>scraped_at</th>\n",
              "      <th>category</th>\n",
              "      <th>_merge</th>\n",
              "    </tr>\n",
              "  </thead>\n",
              "  <tbody>\n",
              "    <tr>\n",
              "      <th>0</th>\n",
              "      <td>d3997f1089be9e45fda4113be39765cb</td>\n",
              "      <td>1000000618</td>\n",
              "      <td>christianity-questions-and-answers</td>\n",
              "      <td>https://podcasts.apple.com/us/podcast/christia...</td>\n",
              "      <td>None</td>\n",
              "      <td>None</td>\n",
              "      <td>None</td>\n",
              "      <td>NaN</td>\n",
              "      <td>None</td>\n",
              "      <td>NaT</td>\n",
              "      <td>religion-spirituality</td>\n",
              "      <td>both</td>\n",
              "    </tr>\n",
              "    <tr>\n",
              "      <th>1</th>\n",
              "      <td>d3997f1089be9e45fda4113be39765cb</td>\n",
              "      <td>1000000618</td>\n",
              "      <td>christianity-questions-and-answers</td>\n",
              "      <td>https://podcasts.apple.com/us/podcast/christia...</td>\n",
              "      <td>None</td>\n",
              "      <td>None</td>\n",
              "      <td>None</td>\n",
              "      <td>NaN</td>\n",
              "      <td>None</td>\n",
              "      <td>NaT</td>\n",
              "      <td>christianity</td>\n",
              "      <td>both</td>\n",
              "    </tr>\n",
              "    <tr>\n",
              "      <th>2</th>\n",
              "      <td>f201172864310534ae6b6c4f8ae9b8cc</td>\n",
              "      <td>1000016089</td>\n",
              "      <td>rahdo-talks-through</td>\n",
              "      <td>https://podcasts.apple.com/us/podcast/rahdo-ta...</td>\n",
              "      <td>Rahdo Talks Through</td>\n",
              "      <td>noreply@blogger.com (Richard Ham)</td>\n",
              "      <td>Richard \"Rahdo\" Ham talks (at great length) al...</td>\n",
              "      <td>4.6</td>\n",
              "      <td>60</td>\n",
              "      <td>2019-07-08 06:15:45.106345</td>\n",
              "      <td>leisure-games</td>\n",
              "      <td>both</td>\n",
              "    </tr>\n",
              "    <tr>\n",
              "      <th>3</th>\n",
              "      <td>f201172864310534ae6b6c4f8ae9b8cc</td>\n",
              "      <td>1000016089</td>\n",
              "      <td>rahdo-talks-through</td>\n",
              "      <td>https://podcasts.apple.com/us/podcast/rahdo-ta...</td>\n",
              "      <td>Rahdo Talks Through</td>\n",
              "      <td>noreply@blogger.com (Richard Ham)</td>\n",
              "      <td>Richard \"Rahdo\" Ham talks (at great length) al...</td>\n",
              "      <td>4.6</td>\n",
              "      <td>60</td>\n",
              "      <td>2019-07-08 06:15:45.106345</td>\n",
              "      <td>leisure</td>\n",
              "      <td>both</td>\n",
              "    </tr>\n",
              "    <tr>\n",
              "      <th>4</th>\n",
              "      <td>4e5ce6a47e5d491aac3f588cfb3ece73</td>\n",
              "      <td>1000016800</td>\n",
              "      <td>st-neots-evangelical-church-sermons</td>\n",
              "      <td>https://podcasts.apple.com/us/podcast/st-neots...</td>\n",
              "      <td>None</td>\n",
              "      <td>None</td>\n",
              "      <td>None</td>\n",
              "      <td>NaN</td>\n",
              "      <td>None</td>\n",
              "      <td>NaT</td>\n",
              "      <td>religion-spirituality</td>\n",
              "      <td>both</td>\n",
              "    </tr>\n",
              "  </tbody>\n",
              "</table>\n",
              "</div>\n",
              "      <button class=\"colab-df-convert\" onclick=\"convertToInteractive('df-42b25cfe-a5c8-48ab-878d-01c3e2b71e7f')\"\n",
              "              title=\"Convert this dataframe to an interactive table.\"\n",
              "              style=\"display:none;\">\n",
              "        \n",
              "  <svg xmlns=\"http://www.w3.org/2000/svg\" height=\"24px\"viewBox=\"0 0 24 24\"\n",
              "       width=\"24px\">\n",
              "    <path d=\"M0 0h24v24H0V0z\" fill=\"none\"/>\n",
              "    <path d=\"M18.56 5.44l.94 2.06.94-2.06 2.06-.94-2.06-.94-.94-2.06-.94 2.06-2.06.94zm-11 1L8.5 8.5l.94-2.06 2.06-.94-2.06-.94L8.5 2.5l-.94 2.06-2.06.94zm10 10l.94 2.06.94-2.06 2.06-.94-2.06-.94-.94-2.06-.94 2.06-2.06.94z\"/><path d=\"M17.41 7.96l-1.37-1.37c-.4-.4-.92-.59-1.43-.59-.52 0-1.04.2-1.43.59L10.3 9.45l-7.72 7.72c-.78.78-.78 2.05 0 2.83L4 21.41c.39.39.9.59 1.41.59.51 0 1.02-.2 1.41-.59l7.78-7.78 2.81-2.81c.8-.78.8-2.07 0-2.86zM5.41 20L4 18.59l7.72-7.72 1.47 1.35L5.41 20z\"/>\n",
              "  </svg>\n",
              "      </button>\n",
              "      \n",
              "  <style>\n",
              "    .colab-df-container {\n",
              "      display:flex;\n",
              "      flex-wrap:wrap;\n",
              "      gap: 12px;\n",
              "    }\n",
              "\n",
              "    .colab-df-convert {\n",
              "      background-color: #E8F0FE;\n",
              "      border: none;\n",
              "      border-radius: 50%;\n",
              "      cursor: pointer;\n",
              "      display: none;\n",
              "      fill: #1967D2;\n",
              "      height: 32px;\n",
              "      padding: 0 0 0 0;\n",
              "      width: 32px;\n",
              "    }\n",
              "\n",
              "    .colab-df-convert:hover {\n",
              "      background-color: #E2EBFA;\n",
              "      box-shadow: 0px 1px 2px rgba(60, 64, 67, 0.3), 0px 1px 3px 1px rgba(60, 64, 67, 0.15);\n",
              "      fill: #174EA6;\n",
              "    }\n",
              "\n",
              "    [theme=dark] .colab-df-convert {\n",
              "      background-color: #3B4455;\n",
              "      fill: #D2E3FC;\n",
              "    }\n",
              "\n",
              "    [theme=dark] .colab-df-convert:hover {\n",
              "      background-color: #434B5C;\n",
              "      box-shadow: 0px 1px 3px 1px rgba(0, 0, 0, 0.15);\n",
              "      filter: drop-shadow(0px 1px 2px rgba(0, 0, 0, 0.3));\n",
              "      fill: #FFFFFF;\n",
              "    }\n",
              "  </style>\n",
              "\n",
              "      <script>\n",
              "        const buttonEl =\n",
              "          document.querySelector('#df-42b25cfe-a5c8-48ab-878d-01c3e2b71e7f button.colab-df-convert');\n",
              "        buttonEl.style.display =\n",
              "          google.colab.kernel.accessAllowed ? 'block' : 'none';\n",
              "\n",
              "        async function convertToInteractive(key) {\n",
              "          const element = document.querySelector('#df-42b25cfe-a5c8-48ab-878d-01c3e2b71e7f');\n",
              "          const dataTable =\n",
              "            await google.colab.kernel.invokeFunction('convertToInteractive',\n",
              "                                                     [key], {});\n",
              "          if (!dataTable) return;\n",
              "\n",
              "          const docLinkHtml = 'Like what you see? Visit the ' +\n",
              "            '<a target=\"_blank\" href=https://colab.research.google.com/notebooks/data_table.ipynb>data table notebook</a>'\n",
              "            + ' to learn more about interactive tables.';\n",
              "          element.innerHTML = '';\n",
              "          dataTable['output_type'] = 'display_data';\n",
              "          await google.colab.output.renderOutput(dataTable, element);\n",
              "          const docLink = document.createElement('div');\n",
              "          docLink.innerHTML = docLinkHtml;\n",
              "          element.appendChild(docLink);\n",
              "        }\n",
              "      </script>\n",
              "    </div>\n",
              "  </div>\n",
              "  "
            ]
          },
          "metadata": {},
          "execution_count": 26
        }
      ]
    },
    {
      "cell_type": "code",
      "source": [
        "# podcast ids in both \n",
        "len(combined[combined._merge == 'both']) # 3589629 (one podcast can be matched to multiple categories)\n",
        "len(combined[combined._merge == 'both'].itunes_id.unique()) # 2064893 unique itunes id\n",
        "len(combined[combined._merge == 'both'].podcast_id.unique()) # 2064893 unique podcast id"
      ],
      "metadata": {
        "colab": {
          "base_uri": "https://localhost:8080/"
        },
        "id": "Ok7Mu9KyTd9b",
        "outputId": "d8aff888-dcdb-4d20-fe9e-fa1e0d1de768"
      },
      "execution_count": 33,
      "outputs": [
        {
          "output_type": "execute_result",
          "data": {
            "text/plain": [
              "2064893"
            ]
          },
          "metadata": {},
          "execution_count": 33
        }
      ]
    },
    {
      "cell_type": "markdown",
      "source": [
        "--> all itunes IDs in the categories data set are matched to the ones in the podcast dataset"
      ],
      "metadata": {
        "id": "OnTuAefhTZaU"
      }
    },
    {
      "cell_type": "markdown",
      "source": [
        "## Reviews (subset of entire data set)\n",
        "\n",
        "Without having subsets in total 5607021 rows and\n",
        "561 subfiles if split into chunks of 10k"
      ],
      "metadata": {
        "id": "6RXPVNYDQQsx"
      }
    },
    {
      "cell_type": "code",
      "source": [
        "# podcast_id\ttitle\tcontent\trating\tauthor_id\tcreated_at\n",
        "itunes_reviews.head()"
      ],
      "metadata": {
        "colab": {
          "base_uri": "https://localhost:8080/",
          "height": 739
        },
        "id": "LwSE-SQA7Pdj",
        "outputId": "8243e157-3fd2-4ceb-ecdf-0182ec4fa49f"
      },
      "execution_count": 14,
      "outputs": [
        {
          "output_type": "execute_result",
          "data": {
            "text/plain": [
              "                         podcast_id  \\\n",
              "0  52e3d2c4fab4e80a8bb75ad144671d96   \n",
              "1  52e3d2c4fab4e80a8bb75ad144671d96   \n",
              "2  52e3d2c4fab4e80a8bb75ad144671d96   \n",
              "3  52e3d2c4fab4e80a8bb75ad144671d96   \n",
              "4  52e3d2c4fab4e80a8bb75ad144671d96   \n",
              "\n",
              "                                           title  \\\n",
              "0                                           Argh   \n",
              "1           Miss gross overrated as interviewer.   \n",
              "2                     I love Terri and Fresh Air   \n",
              "3  Fresh Air subscription changes to Code Switch   \n",
              "4                                 Climate change   \n",
              "\n",
              "                                             content  rating        author_id  \\\n",
              "0  What the heck is this show? And why can’t I de...       1  a23655ce5565f32   \n",
              "1  The Howard stern interview was horrible. I lea...       1  e5d461c5f91c8d2   \n",
              "2  People get really pissy about this beautiful f...       5  806cc75442c8f3d   \n",
              "3  I’ve been a subscriber to Fresh Air for over a...       4  3e1e7e8417a3e85   \n",
              "4  Hello, my name is Lily Rudman and I am a fifth...       5  7c680144b582c6d   \n",
              "\n",
              "                 created_at  \n",
              "0 2019-05-01 01:24:01+00:00  \n",
              "1 2019-06-07 14:25:34+00:00  \n",
              "2 2019-05-15 09:42:53+00:00  \n",
              "3 2019-05-06 02:39:10+00:00  \n",
              "4 2019-04-18 00:37:51+00:00  "
            ],
            "text/html": [
              "\n",
              "  <div id=\"df-7976d256-8574-48b1-b8bf-48a48c4c4708\">\n",
              "    <div class=\"colab-df-container\">\n",
              "      <div>\n",
              "<style scoped>\n",
              "    .dataframe tbody tr th:only-of-type {\n",
              "        vertical-align: middle;\n",
              "    }\n",
              "\n",
              "    .dataframe tbody tr th {\n",
              "        vertical-align: top;\n",
              "    }\n",
              "\n",
              "    .dataframe thead th {\n",
              "        text-align: right;\n",
              "    }\n",
              "</style>\n",
              "<table border=\"1\" class=\"dataframe\">\n",
              "  <thead>\n",
              "    <tr style=\"text-align: right;\">\n",
              "      <th></th>\n",
              "      <th>podcast_id</th>\n",
              "      <th>title</th>\n",
              "      <th>content</th>\n",
              "      <th>rating</th>\n",
              "      <th>author_id</th>\n",
              "      <th>created_at</th>\n",
              "    </tr>\n",
              "  </thead>\n",
              "  <tbody>\n",
              "    <tr>\n",
              "      <th>0</th>\n",
              "      <td>52e3d2c4fab4e80a8bb75ad144671d96</td>\n",
              "      <td>Argh</td>\n",
              "      <td>What the heck is this show? And why can’t I de...</td>\n",
              "      <td>1</td>\n",
              "      <td>a23655ce5565f32</td>\n",
              "      <td>2019-05-01 01:24:01+00:00</td>\n",
              "    </tr>\n",
              "    <tr>\n",
              "      <th>1</th>\n",
              "      <td>52e3d2c4fab4e80a8bb75ad144671d96</td>\n",
              "      <td>Miss gross overrated as interviewer.</td>\n",
              "      <td>The Howard stern interview was horrible. I lea...</td>\n",
              "      <td>1</td>\n",
              "      <td>e5d461c5f91c8d2</td>\n",
              "      <td>2019-06-07 14:25:34+00:00</td>\n",
              "    </tr>\n",
              "    <tr>\n",
              "      <th>2</th>\n",
              "      <td>52e3d2c4fab4e80a8bb75ad144671d96</td>\n",
              "      <td>I love Terri and Fresh Air</td>\n",
              "      <td>People get really pissy about this beautiful f...</td>\n",
              "      <td>5</td>\n",
              "      <td>806cc75442c8f3d</td>\n",
              "      <td>2019-05-15 09:42:53+00:00</td>\n",
              "    </tr>\n",
              "    <tr>\n",
              "      <th>3</th>\n",
              "      <td>52e3d2c4fab4e80a8bb75ad144671d96</td>\n",
              "      <td>Fresh Air subscription changes to Code Switch</td>\n",
              "      <td>I’ve been a subscriber to Fresh Air for over a...</td>\n",
              "      <td>4</td>\n",
              "      <td>3e1e7e8417a3e85</td>\n",
              "      <td>2019-05-06 02:39:10+00:00</td>\n",
              "    </tr>\n",
              "    <tr>\n",
              "      <th>4</th>\n",
              "      <td>52e3d2c4fab4e80a8bb75ad144671d96</td>\n",
              "      <td>Climate change</td>\n",
              "      <td>Hello, my name is Lily Rudman and I am a fifth...</td>\n",
              "      <td>5</td>\n",
              "      <td>7c680144b582c6d</td>\n",
              "      <td>2019-04-18 00:37:51+00:00</td>\n",
              "    </tr>\n",
              "  </tbody>\n",
              "</table>\n",
              "</div>\n",
              "      <button class=\"colab-df-convert\" onclick=\"convertToInteractive('df-7976d256-8574-48b1-b8bf-48a48c4c4708')\"\n",
              "              title=\"Convert this dataframe to an interactive table.\"\n",
              "              style=\"display:none;\">\n",
              "        \n",
              "  <svg xmlns=\"http://www.w3.org/2000/svg\" height=\"24px\"viewBox=\"0 0 24 24\"\n",
              "       width=\"24px\">\n",
              "    <path d=\"M0 0h24v24H0V0z\" fill=\"none\"/>\n",
              "    <path d=\"M18.56 5.44l.94 2.06.94-2.06 2.06-.94-2.06-.94-.94-2.06-.94 2.06-2.06.94zm-11 1L8.5 8.5l.94-2.06 2.06-.94-2.06-.94L8.5 2.5l-.94 2.06-2.06.94zm10 10l.94 2.06.94-2.06 2.06-.94-2.06-.94-.94-2.06-.94 2.06-2.06.94z\"/><path d=\"M17.41 7.96l-1.37-1.37c-.4-.4-.92-.59-1.43-.59-.52 0-1.04.2-1.43.59L10.3 9.45l-7.72 7.72c-.78.78-.78 2.05 0 2.83L4 21.41c.39.39.9.59 1.41.59.51 0 1.02-.2 1.41-.59l7.78-7.78 2.81-2.81c.8-.78.8-2.07 0-2.86zM5.41 20L4 18.59l7.72-7.72 1.47 1.35L5.41 20z\"/>\n",
              "  </svg>\n",
              "      </button>\n",
              "      \n",
              "  <style>\n",
              "    .colab-df-container {\n",
              "      display:flex;\n",
              "      flex-wrap:wrap;\n",
              "      gap: 12px;\n",
              "    }\n",
              "\n",
              "    .colab-df-convert {\n",
              "      background-color: #E8F0FE;\n",
              "      border: none;\n",
              "      border-radius: 50%;\n",
              "      cursor: pointer;\n",
              "      display: none;\n",
              "      fill: #1967D2;\n",
              "      height: 32px;\n",
              "      padding: 0 0 0 0;\n",
              "      width: 32px;\n",
              "    }\n",
              "\n",
              "    .colab-df-convert:hover {\n",
              "      background-color: #E2EBFA;\n",
              "      box-shadow: 0px 1px 2px rgba(60, 64, 67, 0.3), 0px 1px 3px 1px rgba(60, 64, 67, 0.15);\n",
              "      fill: #174EA6;\n",
              "    }\n",
              "\n",
              "    [theme=dark] .colab-df-convert {\n",
              "      background-color: #3B4455;\n",
              "      fill: #D2E3FC;\n",
              "    }\n",
              "\n",
              "    [theme=dark] .colab-df-convert:hover {\n",
              "      background-color: #434B5C;\n",
              "      box-shadow: 0px 1px 3px 1px rgba(0, 0, 0, 0.15);\n",
              "      filter: drop-shadow(0px 1px 2px rgba(0, 0, 0, 0.3));\n",
              "      fill: #FFFFFF;\n",
              "    }\n",
              "  </style>\n",
              "\n",
              "      <script>\n",
              "        const buttonEl =\n",
              "          document.querySelector('#df-7976d256-8574-48b1-b8bf-48a48c4c4708 button.colab-df-convert');\n",
              "        buttonEl.style.display =\n",
              "          google.colab.kernel.accessAllowed ? 'block' : 'none';\n",
              "\n",
              "        async function convertToInteractive(key) {\n",
              "          const element = document.querySelector('#df-7976d256-8574-48b1-b8bf-48a48c4c4708');\n",
              "          const dataTable =\n",
              "            await google.colab.kernel.invokeFunction('convertToInteractive',\n",
              "                                                     [key], {});\n",
              "          if (!dataTable) return;\n",
              "\n",
              "          const docLinkHtml = 'Like what you see? Visit the ' +\n",
              "            '<a target=\"_blank\" href=https://colab.research.google.com/notebooks/data_table.ipynb>data table notebook</a>'\n",
              "            + ' to learn more about interactive tables.';\n",
              "          element.innerHTML = '';\n",
              "          dataTable['output_type'] = 'display_data';\n",
              "          await google.colab.output.renderOutput(dataTable, element);\n",
              "          const docLink = document.createElement('div');\n",
              "          docLink.innerHTML = docLinkHtml;\n",
              "          element.appendChild(docLink);\n",
              "        }\n",
              "      </script>\n",
              "    </div>\n",
              "  </div>\n",
              "  "
            ]
          },
          "metadata": {},
          "execution_count": 14
        }
      ]
    },
    {
      "cell_type": "code",
      "source": [
        "itunes_reviews.describe()"
      ],
      "metadata": {
        "colab": {
          "base_uri": "https://localhost:8080/",
          "height": 300
        },
        "id": "ZiD9fJZv7Rif",
        "outputId": "8003e76a-210d-47ff-f88f-a8a59a55b127"
      },
      "execution_count": 15,
      "outputs": [
        {
          "output_type": "execute_result",
          "data": {
            "text/plain": [
              "              rating\n",
              "count  450003.000000\n",
              "mean        4.749955\n",
              "std         0.844941\n",
              "min         1.000000\n",
              "25%         5.000000\n",
              "50%         5.000000\n",
              "75%         5.000000\n",
              "max         5.000000"
            ],
            "text/html": [
              "\n",
              "  <div id=\"df-7153cdcf-aa0e-427c-93ca-22c5ba149af3\">\n",
              "    <div class=\"colab-df-container\">\n",
              "      <div>\n",
              "<style scoped>\n",
              "    .dataframe tbody tr th:only-of-type {\n",
              "        vertical-align: middle;\n",
              "    }\n",
              "\n",
              "    .dataframe tbody tr th {\n",
              "        vertical-align: top;\n",
              "    }\n",
              "\n",
              "    .dataframe thead th {\n",
              "        text-align: right;\n",
              "    }\n",
              "</style>\n",
              "<table border=\"1\" class=\"dataframe\">\n",
              "  <thead>\n",
              "    <tr style=\"text-align: right;\">\n",
              "      <th></th>\n",
              "      <th>rating</th>\n",
              "    </tr>\n",
              "  </thead>\n",
              "  <tbody>\n",
              "    <tr>\n",
              "      <th>count</th>\n",
              "      <td>450003.000000</td>\n",
              "    </tr>\n",
              "    <tr>\n",
              "      <th>mean</th>\n",
              "      <td>4.749955</td>\n",
              "    </tr>\n",
              "    <tr>\n",
              "      <th>std</th>\n",
              "      <td>0.844941</td>\n",
              "    </tr>\n",
              "    <tr>\n",
              "      <th>min</th>\n",
              "      <td>1.000000</td>\n",
              "    </tr>\n",
              "    <tr>\n",
              "      <th>25%</th>\n",
              "      <td>5.000000</td>\n",
              "    </tr>\n",
              "    <tr>\n",
              "      <th>50%</th>\n",
              "      <td>5.000000</td>\n",
              "    </tr>\n",
              "    <tr>\n",
              "      <th>75%</th>\n",
              "      <td>5.000000</td>\n",
              "    </tr>\n",
              "    <tr>\n",
              "      <th>max</th>\n",
              "      <td>5.000000</td>\n",
              "    </tr>\n",
              "  </tbody>\n",
              "</table>\n",
              "</div>\n",
              "      <button class=\"colab-df-convert\" onclick=\"convertToInteractive('df-7153cdcf-aa0e-427c-93ca-22c5ba149af3')\"\n",
              "              title=\"Convert this dataframe to an interactive table.\"\n",
              "              style=\"display:none;\">\n",
              "        \n",
              "  <svg xmlns=\"http://www.w3.org/2000/svg\" height=\"24px\"viewBox=\"0 0 24 24\"\n",
              "       width=\"24px\">\n",
              "    <path d=\"M0 0h24v24H0V0z\" fill=\"none\"/>\n",
              "    <path d=\"M18.56 5.44l.94 2.06.94-2.06 2.06-.94-2.06-.94-.94-2.06-.94 2.06-2.06.94zm-11 1L8.5 8.5l.94-2.06 2.06-.94-2.06-.94L8.5 2.5l-.94 2.06-2.06.94zm10 10l.94 2.06.94-2.06 2.06-.94-2.06-.94-.94-2.06-.94 2.06-2.06.94z\"/><path d=\"M17.41 7.96l-1.37-1.37c-.4-.4-.92-.59-1.43-.59-.52 0-1.04.2-1.43.59L10.3 9.45l-7.72 7.72c-.78.78-.78 2.05 0 2.83L4 21.41c.39.39.9.59 1.41.59.51 0 1.02-.2 1.41-.59l7.78-7.78 2.81-2.81c.8-.78.8-2.07 0-2.86zM5.41 20L4 18.59l7.72-7.72 1.47 1.35L5.41 20z\"/>\n",
              "  </svg>\n",
              "      </button>\n",
              "      \n",
              "  <style>\n",
              "    .colab-df-container {\n",
              "      display:flex;\n",
              "      flex-wrap:wrap;\n",
              "      gap: 12px;\n",
              "    }\n",
              "\n",
              "    .colab-df-convert {\n",
              "      background-color: #E8F0FE;\n",
              "      border: none;\n",
              "      border-radius: 50%;\n",
              "      cursor: pointer;\n",
              "      display: none;\n",
              "      fill: #1967D2;\n",
              "      height: 32px;\n",
              "      padding: 0 0 0 0;\n",
              "      width: 32px;\n",
              "    }\n",
              "\n",
              "    .colab-df-convert:hover {\n",
              "      background-color: #E2EBFA;\n",
              "      box-shadow: 0px 1px 2px rgba(60, 64, 67, 0.3), 0px 1px 3px 1px rgba(60, 64, 67, 0.15);\n",
              "      fill: #174EA6;\n",
              "    }\n",
              "\n",
              "    [theme=dark] .colab-df-convert {\n",
              "      background-color: #3B4455;\n",
              "      fill: #D2E3FC;\n",
              "    }\n",
              "\n",
              "    [theme=dark] .colab-df-convert:hover {\n",
              "      background-color: #434B5C;\n",
              "      box-shadow: 0px 1px 3px 1px rgba(0, 0, 0, 0.15);\n",
              "      filter: drop-shadow(0px 1px 2px rgba(0, 0, 0, 0.3));\n",
              "      fill: #FFFFFF;\n",
              "    }\n",
              "  </style>\n",
              "\n",
              "      <script>\n",
              "        const buttonEl =\n",
              "          document.querySelector('#df-7153cdcf-aa0e-427c-93ca-22c5ba149af3 button.colab-df-convert');\n",
              "        buttonEl.style.display =\n",
              "          google.colab.kernel.accessAllowed ? 'block' : 'none';\n",
              "\n",
              "        async function convertToInteractive(key) {\n",
              "          const element = document.querySelector('#df-7153cdcf-aa0e-427c-93ca-22c5ba149af3');\n",
              "          const dataTable =\n",
              "            await google.colab.kernel.invokeFunction('convertToInteractive',\n",
              "                                                     [key], {});\n",
              "          if (!dataTable) return;\n",
              "\n",
              "          const docLinkHtml = 'Like what you see? Visit the ' +\n",
              "            '<a target=\"_blank\" href=https://colab.research.google.com/notebooks/data_table.ipynb>data table notebook</a>'\n",
              "            + ' to learn more about interactive tables.';\n",
              "          element.innerHTML = '';\n",
              "          dataTable['output_type'] = 'display_data';\n",
              "          await google.colab.output.renderOutput(dataTable, element);\n",
              "          const docLink = document.createElement('div');\n",
              "          docLink.innerHTML = docLinkHtml;\n",
              "          element.appendChild(docLink);\n",
              "        }\n",
              "      </script>\n",
              "    </div>\n",
              "  </div>\n",
              "  "
            ]
          },
          "metadata": {},
          "execution_count": 15
        }
      ]
    },
    {
      "cell_type": "code",
      "source": [
        "# number of rows (for subset)\n",
        "len(itunes_reviews.index)"
      ],
      "metadata": {
        "colab": {
          "base_uri": "https://localhost:8080/"
        },
        "id": "-fTiSYA17URh",
        "outputId": "f1437061-3c62-4cb3-e986-678beca77b6e"
      },
      "execution_count": 16,
      "outputs": [
        {
          "output_type": "execute_result",
          "data": {
            "text/plain": [
              "450003"
            ]
          },
          "metadata": {},
          "execution_count": 16
        }
      ]
    },
    {
      "cell_type": "code",
      "source": [
        "# unique itunes ids used\n",
        "len(itunes_reviews.podcast_id.unique())"
      ],
      "metadata": {
        "colab": {
          "base_uri": "https://localhost:8080/"
        },
        "id": "FsI_LeLH7tzL",
        "outputId": "94c99689-393d-4b2b-c789-0bfd9a524d34"
      },
      "execution_count": 32,
      "outputs": [
        {
          "output_type": "execute_result",
          "data": {
            "text/plain": [
              "18402"
            ]
          },
          "metadata": {},
          "execution_count": 32
        }
      ]
    },
    {
      "cell_type": "markdown",
      "source": [
        "## Review dropping NAs"
      ],
      "metadata": {
        "id": "aI2jNmhRYqqh"
      }
    },
    {
      "cell_type": "code",
      "source": [
        "combined_cleaned = combined.dropna()"
      ],
      "metadata": {
        "id": "0E5jRcQQYqIi"
      },
      "execution_count": 36,
      "outputs": []
    },
    {
      "cell_type": "code",
      "source": [
        "# rows\n",
        "len(combined_cleaned.index)"
      ],
      "metadata": {
        "colab": {
          "base_uri": "https://localhost:8080/"
        },
        "id": "fjE7CbXWZSvp",
        "outputId": "74645f62-ed19-48d9-c03c-63d047149c9c"
      },
      "execution_count": 37,
      "outputs": [
        {
          "output_type": "execute_result",
          "data": {
            "text/plain": [
              "165050"
            ]
          },
          "metadata": {},
          "execution_count": 37
        }
      ]
    },
    {
      "cell_type": "code",
      "source": [
        "# unique podcast ids\n",
        "len(combined_cleaned.podcast_id.unique())"
      ],
      "metadata": {
        "colab": {
          "base_uri": "https://localhost:8080/"
        },
        "id": "5ar_GcdLZc8q",
        "outputId": "bcbb94f2-927e-42cd-db36-28b850ec039e"
      },
      "execution_count": 40,
      "outputs": [
        {
          "output_type": "execute_result",
          "data": {
            "text/plain": [
              "75329"
            ]
          },
          "metadata": {},
          "execution_count": 40
        }
      ]
    },
    {
      "cell_type": "code",
      "source": [
        "combined_cleaned.head()"
      ],
      "metadata": {
        "colab": {
          "base_uri": "https://localhost:8080/",
          "height": 583
        },
        "id": "V7Mcy7JRZWcT",
        "outputId": "f307b98d-bbc2-413b-8dc9-35581d2f4241"
      },
      "execution_count": 41,
      "outputs": [
        {
          "output_type": "execute_result",
          "data": {
            "text/plain": [
              "                          podcast_id   itunes_id                 slug  \\\n",
              "2   f201172864310534ae6b6c4f8ae9b8cc  1000016089  rahdo-talks-through   \n",
              "3   f201172864310534ae6b6c4f8ae9b8cc  1000016089  rahdo-talks-through   \n",
              "9   3cfef94cfccf27eb504bd7a6c7459636  1000035707            originall   \n",
              "10  3cfef94cfccf27eb504bd7a6c7459636  1000035707            originall   \n",
              "14  9fc35a81647e391f93211b5d11973c83  1000081327           galaktacus   \n",
              "\n",
              "                                           itunes_url                title  \\\n",
              "2   https://podcasts.apple.com/us/podcast/rahdo-ta...  Rahdo Talks Through   \n",
              "3   https://podcasts.apple.com/us/podcast/rahdo-ta...  Rahdo Talks Through   \n",
              "9   https://podcasts.apple.com/us/podcast/original...            OriginALL   \n",
              "10  https://podcasts.apple.com/us/podcast/original...            OriginALL   \n",
              "14  https://podcasts.apple.com/us/podcast/galaktac...           Galaktacus   \n",
              "\n",
              "                                       author  \\\n",
              "2           noreply@blogger.com (Richard Ham)   \n",
              "3           noreply@blogger.com (Richard Ham)   \n",
              "9                                 CityPodcast   \n",
              "10                                CityPodcast   \n",
              "14  Jim Kettner, John Mihaly, and Scott Brown   \n",
              "\n",
              "                                          description  average_rating  \\\n",
              "2   Richard \"Rahdo\" Ham talks (at great length) al...             4.6   \n",
              "3   Richard \"Rahdo\" Ham talks (at great length) al...             4.6   \n",
              "9   OriginALL este un show cu oameni inteligenti p...             3.7   \n",
              "10  OriginALL este un show cu oameni inteligenti p...             3.7   \n",
              "14  The name Galaktacus originates from a youthful...             5.0   \n",
              "\n",
              "   ratings_count                 scraped_at          category _merge  \n",
              "2             60 2019-07-08 06:15:45.106345     leisure-games   both  \n",
              "3             60 2019-07-08 06:15:45.106345           leisure   both  \n",
              "9              3 2019-07-08 08:49:41.523299  business-careers   both  \n",
              "10             3 2019-07-08 08:49:41.523299          business   both  \n",
              "14            20 2019-07-09 16:22:01.395399           tv-film   both  "
            ],
            "text/html": [
              "\n",
              "  <div id=\"df-61c7786f-11af-4eaa-9868-d37ae9f64166\">\n",
              "    <div class=\"colab-df-container\">\n",
              "      <div>\n",
              "<style scoped>\n",
              "    .dataframe tbody tr th:only-of-type {\n",
              "        vertical-align: middle;\n",
              "    }\n",
              "\n",
              "    .dataframe tbody tr th {\n",
              "        vertical-align: top;\n",
              "    }\n",
              "\n",
              "    .dataframe thead th {\n",
              "        text-align: right;\n",
              "    }\n",
              "</style>\n",
              "<table border=\"1\" class=\"dataframe\">\n",
              "  <thead>\n",
              "    <tr style=\"text-align: right;\">\n",
              "      <th></th>\n",
              "      <th>podcast_id</th>\n",
              "      <th>itunes_id</th>\n",
              "      <th>slug</th>\n",
              "      <th>itunes_url</th>\n",
              "      <th>title</th>\n",
              "      <th>author</th>\n",
              "      <th>description</th>\n",
              "      <th>average_rating</th>\n",
              "      <th>ratings_count</th>\n",
              "      <th>scraped_at</th>\n",
              "      <th>category</th>\n",
              "      <th>_merge</th>\n",
              "    </tr>\n",
              "  </thead>\n",
              "  <tbody>\n",
              "    <tr>\n",
              "      <th>2</th>\n",
              "      <td>f201172864310534ae6b6c4f8ae9b8cc</td>\n",
              "      <td>1000016089</td>\n",
              "      <td>rahdo-talks-through</td>\n",
              "      <td>https://podcasts.apple.com/us/podcast/rahdo-ta...</td>\n",
              "      <td>Rahdo Talks Through</td>\n",
              "      <td>noreply@blogger.com (Richard Ham)</td>\n",
              "      <td>Richard \"Rahdo\" Ham talks (at great length) al...</td>\n",
              "      <td>4.6</td>\n",
              "      <td>60</td>\n",
              "      <td>2019-07-08 06:15:45.106345</td>\n",
              "      <td>leisure-games</td>\n",
              "      <td>both</td>\n",
              "    </tr>\n",
              "    <tr>\n",
              "      <th>3</th>\n",
              "      <td>f201172864310534ae6b6c4f8ae9b8cc</td>\n",
              "      <td>1000016089</td>\n",
              "      <td>rahdo-talks-through</td>\n",
              "      <td>https://podcasts.apple.com/us/podcast/rahdo-ta...</td>\n",
              "      <td>Rahdo Talks Through</td>\n",
              "      <td>noreply@blogger.com (Richard Ham)</td>\n",
              "      <td>Richard \"Rahdo\" Ham talks (at great length) al...</td>\n",
              "      <td>4.6</td>\n",
              "      <td>60</td>\n",
              "      <td>2019-07-08 06:15:45.106345</td>\n",
              "      <td>leisure</td>\n",
              "      <td>both</td>\n",
              "    </tr>\n",
              "    <tr>\n",
              "      <th>9</th>\n",
              "      <td>3cfef94cfccf27eb504bd7a6c7459636</td>\n",
              "      <td>1000035707</td>\n",
              "      <td>originall</td>\n",
              "      <td>https://podcasts.apple.com/us/podcast/original...</td>\n",
              "      <td>OriginALL</td>\n",
              "      <td>CityPodcast</td>\n",
              "      <td>OriginALL este un show cu oameni inteligenti p...</td>\n",
              "      <td>3.7</td>\n",
              "      <td>3</td>\n",
              "      <td>2019-07-08 08:49:41.523299</td>\n",
              "      <td>business-careers</td>\n",
              "      <td>both</td>\n",
              "    </tr>\n",
              "    <tr>\n",
              "      <th>10</th>\n",
              "      <td>3cfef94cfccf27eb504bd7a6c7459636</td>\n",
              "      <td>1000035707</td>\n",
              "      <td>originall</td>\n",
              "      <td>https://podcasts.apple.com/us/podcast/original...</td>\n",
              "      <td>OriginALL</td>\n",
              "      <td>CityPodcast</td>\n",
              "      <td>OriginALL este un show cu oameni inteligenti p...</td>\n",
              "      <td>3.7</td>\n",
              "      <td>3</td>\n",
              "      <td>2019-07-08 08:49:41.523299</td>\n",
              "      <td>business</td>\n",
              "      <td>both</td>\n",
              "    </tr>\n",
              "    <tr>\n",
              "      <th>14</th>\n",
              "      <td>9fc35a81647e391f93211b5d11973c83</td>\n",
              "      <td>1000081327</td>\n",
              "      <td>galaktacus</td>\n",
              "      <td>https://podcasts.apple.com/us/podcast/galaktac...</td>\n",
              "      <td>Galaktacus</td>\n",
              "      <td>Jim Kettner, John Mihaly, and Scott Brown</td>\n",
              "      <td>The name Galaktacus originates from a youthful...</td>\n",
              "      <td>5.0</td>\n",
              "      <td>20</td>\n",
              "      <td>2019-07-09 16:22:01.395399</td>\n",
              "      <td>tv-film</td>\n",
              "      <td>both</td>\n",
              "    </tr>\n",
              "  </tbody>\n",
              "</table>\n",
              "</div>\n",
              "      <button class=\"colab-df-convert\" onclick=\"convertToInteractive('df-61c7786f-11af-4eaa-9868-d37ae9f64166')\"\n",
              "              title=\"Convert this dataframe to an interactive table.\"\n",
              "              style=\"display:none;\">\n",
              "        \n",
              "  <svg xmlns=\"http://www.w3.org/2000/svg\" height=\"24px\"viewBox=\"0 0 24 24\"\n",
              "       width=\"24px\">\n",
              "    <path d=\"M0 0h24v24H0V0z\" fill=\"none\"/>\n",
              "    <path d=\"M18.56 5.44l.94 2.06.94-2.06 2.06-.94-2.06-.94-.94-2.06-.94 2.06-2.06.94zm-11 1L8.5 8.5l.94-2.06 2.06-.94-2.06-.94L8.5 2.5l-.94 2.06-2.06.94zm10 10l.94 2.06.94-2.06 2.06-.94-2.06-.94-.94-2.06-.94 2.06-2.06.94z\"/><path d=\"M17.41 7.96l-1.37-1.37c-.4-.4-.92-.59-1.43-.59-.52 0-1.04.2-1.43.59L10.3 9.45l-7.72 7.72c-.78.78-.78 2.05 0 2.83L4 21.41c.39.39.9.59 1.41.59.51 0 1.02-.2 1.41-.59l7.78-7.78 2.81-2.81c.8-.78.8-2.07 0-2.86zM5.41 20L4 18.59l7.72-7.72 1.47 1.35L5.41 20z\"/>\n",
              "  </svg>\n",
              "      </button>\n",
              "      \n",
              "  <style>\n",
              "    .colab-df-container {\n",
              "      display:flex;\n",
              "      flex-wrap:wrap;\n",
              "      gap: 12px;\n",
              "    }\n",
              "\n",
              "    .colab-df-convert {\n",
              "      background-color: #E8F0FE;\n",
              "      border: none;\n",
              "      border-radius: 50%;\n",
              "      cursor: pointer;\n",
              "      display: none;\n",
              "      fill: #1967D2;\n",
              "      height: 32px;\n",
              "      padding: 0 0 0 0;\n",
              "      width: 32px;\n",
              "    }\n",
              "\n",
              "    .colab-df-convert:hover {\n",
              "      background-color: #E2EBFA;\n",
              "      box-shadow: 0px 1px 2px rgba(60, 64, 67, 0.3), 0px 1px 3px 1px rgba(60, 64, 67, 0.15);\n",
              "      fill: #174EA6;\n",
              "    }\n",
              "\n",
              "    [theme=dark] .colab-df-convert {\n",
              "      background-color: #3B4455;\n",
              "      fill: #D2E3FC;\n",
              "    }\n",
              "\n",
              "    [theme=dark] .colab-df-convert:hover {\n",
              "      background-color: #434B5C;\n",
              "      box-shadow: 0px 1px 3px 1px rgba(0, 0, 0, 0.15);\n",
              "      filter: drop-shadow(0px 1px 2px rgba(0, 0, 0, 0.3));\n",
              "      fill: #FFFFFF;\n",
              "    }\n",
              "  </style>\n",
              "\n",
              "      <script>\n",
              "        const buttonEl =\n",
              "          document.querySelector('#df-61c7786f-11af-4eaa-9868-d37ae9f64166 button.colab-df-convert');\n",
              "        buttonEl.style.display =\n",
              "          google.colab.kernel.accessAllowed ? 'block' : 'none';\n",
              "\n",
              "        async function convertToInteractive(key) {\n",
              "          const element = document.querySelector('#df-61c7786f-11af-4eaa-9868-d37ae9f64166');\n",
              "          const dataTable =\n",
              "            await google.colab.kernel.invokeFunction('convertToInteractive',\n",
              "                                                     [key], {});\n",
              "          if (!dataTable) return;\n",
              "\n",
              "          const docLinkHtml = 'Like what you see? Visit the ' +\n",
              "            '<a target=\"_blank\" href=https://colab.research.google.com/notebooks/data_table.ipynb>data table notebook</a>'\n",
              "            + ' to learn more about interactive tables.';\n",
              "          element.innerHTML = '';\n",
              "          dataTable['output_type'] = 'display_data';\n",
              "          await google.colab.output.renderOutput(dataTable, element);\n",
              "          const docLink = document.createElement('div');\n",
              "          docLink.innerHTML = docLinkHtml;\n",
              "          element.appendChild(docLink);\n",
              "        }\n",
              "      </script>\n",
              "    </div>\n",
              "  </div>\n",
              "  "
            ]
          },
          "metadata": {},
          "execution_count": 41
        }
      ]
    }
  ]
}